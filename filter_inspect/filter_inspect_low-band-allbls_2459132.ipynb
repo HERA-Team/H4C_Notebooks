{
 "cells": [
  {
   "cell_type": "code",
   "execution_count": 1,
   "id": "exotic-cover",
   "metadata": {
    "ExecuteTime": {
     "end_time": "2021-04-28T21:46:45.222296Z",
     "start_time": "2021-04-28T21:46:45.177978Z"
    },
    "execution": {
     "iopub.execute_input": "2021-05-07T16:31:12.879204Z",
     "iopub.status.busy": "2021-05-07T16:31:12.878148Z",
     "iopub.status.idle": "2021-05-07T16:31:15.658761Z",
     "shell.execute_reply": "2021-05-07T16:31:15.659764Z"
    }
   },
   "outputs": [
    {
     "data": {
      "text/html": [
       "<style>.container { width:100% !important; }</style>"
      ],
      "text/plain": [
       "<IPython.core.display.HTML object>"
      ]
     },
     "metadata": {},
     "output_type": "display_data"
    }
   ],
   "source": [
    "import numpy as np\n",
    "import matplotlib.pyplot as plt\n",
    "from hera_cal import frf\n",
    "import glob\n",
    "import os\n",
    "from copy import deepcopy\n",
    "from hera_cal import redcal\n",
    "from IPython.display import display, HTML\n",
    "from hera_cal.io import HERAData\n",
    "from matplotlib.colors import LogNorm\n",
    "from hera_cal import utils\n",
    "%config Completer.use_jedi = False\n",
    "from scipy.interpolate import interp1d\n",
    "\n",
    "%matplotlib inline\n",
    "%config InlineBackend.figure_format = 'retina'\n",
    "display(HTML(\"<style>.container { width:100% !important; }</style>\"))"
   ]
  },
  {
   "cell_type": "code",
   "execution_count": 2,
   "id": "bronze-impression",
   "metadata": {
    "ExecuteTime": {
     "end_time": "2021-04-28T21:10:03.331124Z",
     "start_time": "2021-04-28T21:09:42.932Z"
    },
    "execution": {
     "iopub.execute_input": "2021-05-07T16:31:15.664551Z",
     "iopub.status.busy": "2021-05-07T16:31:15.663169Z",
     "iopub.status.idle": "2021-05-07T16:31:15.672485Z",
     "shell.execute_reply": "2021-05-07T16:31:15.673371Z"
    }
   },
   "outputs": [
    {
     "name": "stdout",
     "output_type": "stream",
     "text": [
      "JD = \"2459132\"\n",
      "data_path = \"/lustre/aoc/projects/hera/H4C/postprocessing/2459132\"\n"
     ]
    }
   ],
   "source": [
    "# Use environment variables to figure out path to data\n",
    "JD = os.environ['JULIANDATE']\n",
    "data_path = os.environ['DATA_PATH']\n",
    "label = os.environ['LABEL']\n",
    "nreds = os.environ['NREDS']\n",
    "max_bls_per_redgrp = os.environ['MAX_BLS_PER_REDGRP']\n",
    "nskip = os.environ['NSKIP']\n",
    "print(f'JD = \"{JD}\"')\n",
    "print(f'data_path = \"{data_path}\"')"
   ]
  },
  {
   "cell_type": "code",
   "execution_count": 3,
   "id": "joined-suffering",
   "metadata": {
    "ExecuteTime": {
     "end_time": "2021-04-28T21:12:02.489738Z",
     "start_time": "2021-04-28T21:12:02.388712Z"
    },
    "execution": {
     "iopub.execute_input": "2021-05-07T16:31:15.677392Z",
     "iopub.status.busy": "2021-05-07T16:31:15.676130Z",
     "iopub.status.idle": "2021-05-07T16:31:15.684411Z",
     "shell.execute_reply": "2021-05-07T16:31:15.685255Z"
    }
   },
   "outputs": [
    {
     "name": "stdout",
     "output_type": "stream",
     "text": [
      "Date: 10-9-2020\n"
     ]
    }
   ],
   "source": [
    "from astropy.time import Time\n",
    "utc = Time(JD, format='jd').datetime\n",
    "print(f'Date: {utc.month}-{utc.day}-{utc.year}')"
   ]
  },
  {
   "cell_type": "code",
   "execution_count": 4,
   "id": "religious-smith",
   "metadata": {
    "ExecuteTime": {
     "end_time": "2021-04-28T21:15:35.223413Z",
     "start_time": "2021-04-28T21:15:33.025051Z"
    },
    "execution": {
     "iopub.execute_input": "2021-05-07T16:31:15.689040Z",
     "iopub.status.busy": "2021-05-07T16:31:15.687788Z",
     "iopub.status.idle": "2021-05-07T16:31:15.837491Z",
     "shell.execute_reply": "2021-05-07T16:31:15.838089Z"
    }
   },
   "outputs": [
    {
     "name": "stdout",
     "output_type": "stream",
     "text": [
      "Looking for sum xtalk-filtered data in /lustre/aoc/projects/hera/H4C/postprocessing/2459132 on JD 2459132\n",
      "Found 121 files.\n",
      "Looking for diff xtalk-filtered data in /lustre/aoc/projects/hera/H4C/postprocessing/2459132 on JD 2459132\n",
      "Found 121 files.\n",
      "Looking for sum time-inpainted data in /lustre/aoc/projects/hera/H4C/postprocessing/2459132 on JD 2459132\n",
      "Found 121 files.\n",
      "Looking for diff time-inpainted data in /lustre/aoc/projects/hera/H4C/postprocessing/2459132 on JD 2459132\n",
      "Found 121 files.\n"
     ]
    }
   ],
   "source": [
    "print('Looking for sum xtalk-filtered data in', data_path, 'on JD', JD)\n",
    "xtalk_filtered_sums = sorted(glob.glob(os.path.join(data_path, f'zen.{JD}.?????.sum.{label}.xtalk_filtered.tavg.uvh5')))\n",
    "print('Found {} files.'.format(len(xtalk_filtered_sums)))\n",
    "print('Looking for diff xtalk-filtered data in', data_path, 'on JD', JD)\n",
    "xtalk_filtered_diffs = sorted(glob.glob(os.path.join(data_path, f'zen.{JD}.?????.diff.{label}.xtalk_filtered.tavg.uvh5')))\n",
    "print('Found {} files.'.format(len(xtalk_filtered_diffs)))\n",
    "print('Looking for sum time-inpainted data in', data_path, 'on JD', JD)\n",
    "time_inpainted_sums = sorted(glob.glob(os.path.join(data_path, f'zen.{JD}.?????.sum.{label}.time_inpainted.tavg.uvh5')))\n",
    "print('Found {} files.'.format(len(time_inpainted_sums)))\n",
    "print('Looking for diff time-inpainted data in', data_path, 'on JD', JD)\n",
    "time_inpainted_diffs = sorted(glob.glob(os.path.join(data_path, f'zen.{JD}.?????.diff.{label}.time_inpainted.tavg.uvh5')))\n",
    "print('Found {} files.'.format(len(time_inpainted_diffs)))"
   ]
  },
  {
   "cell_type": "markdown",
   "id": "precise-dubai",
   "metadata": {},
   "source": [
    "Examine Waterfalls and FR-plots for several redundant groups."
   ]
  },
  {
   "cell_type": "code",
   "execution_count": 5,
   "id": "better-blood",
   "metadata": {
    "ExecuteTime": {
     "end_time": "2021-04-28T22:06:22.738066Z",
     "start_time": "2021-04-28T22:06:21.272637Z"
    },
    "execution": {
     "iopub.execute_input": "2021-05-07T16:31:15.840926Z",
     "iopub.status.busy": "2021-05-07T16:31:15.840076Z",
     "iopub.status.idle": "2021-05-07T16:31:18.547822Z",
     "shell.execute_reply": "2021-05-07T16:31:18.548475Z"
    }
   },
   "outputs": [],
   "source": [
    "hd = HERAData(time_inpainted_sums[0])\n",
    "antpairs_data = hd.get_antpairs()\n",
    "reds = redcal.get_pos_reds(hd.antpos)\n",
    "#reds = redcal.filter_reds(reds, antpos=hd.antpos)\n",
    "reds = [[bl for bl in grp if bl in antpairs_data or bl[::-1] in antpairs_data] for grp in reds]\n",
    "reds = [grp for grp in reds if len(grp)>0]\n",
    "reds = sorted(reds, key=len, reverse=True)"
   ]
  },
  {
   "cell_type": "code",
   "execution_count": 6,
   "id": "qualified-assault",
   "metadata": {
    "ExecuteTime": {
     "end_time": "2021-04-28T22:01:31.942799Z",
     "start_time": "2021-04-28T21:56:28.467754Z"
    },
    "execution": {
     "iopub.execute_input": "2021-05-07T16:31:18.551716Z",
     "iopub.status.busy": "2021-05-07T16:31:18.550787Z",
     "iopub.status.idle": "2021-05-07T16:36:05.123018Z",
     "shell.execute_reply": "2021-05-07T16:36:05.124382Z"
    }
   },
   "outputs": [
    {
     "name": "stderr",
     "output_type": "stream",
     "text": [
      "Mean of empty slice.\n",
      "invalid value encountered in double_scalars\n"
     ]
    },
    {
     "ename": "ValueError",
     "evalue": "shape mismatch: value array of shape (121,170)  could not be broadcast to indexing result of shape (0,170)",
     "output_type": "error",
     "traceback": [
      "\u001b[0;31m---------------------------------------------------------------------------\u001b[0m",
      "\u001b[0;31mValueError\u001b[0m                                Traceback (most recent call last)",
      "\u001b[0;32m<ipython-input-1-3724b4d915d5>\u001b[0m in \u001b[0;36m<module>\u001b[0;34m\u001b[0m\n\u001b[1;32m      2\u001b[0m \u001b[0mfrf_inpaint\u001b[0m\u001b[0;34m.\u001b[0m\u001b[0mread\u001b[0m\u001b[0;34m(\u001b[0m\u001b[0maxis\u001b[0m\u001b[0;34m=\u001b[0m\u001b[0;34m'blt'\u001b[0m\u001b[0;34m)\u001b[0m\u001b[0;34m\u001b[0m\u001b[0;34m\u001b[0m\u001b[0m\n\u001b[1;32m      3\u001b[0m \u001b[0;31m# generate redundantly averaged data\u001b[0m\u001b[0;34m\u001b[0m\u001b[0;34m\u001b[0m\u001b[0;34m\u001b[0m\u001b[0m\n\u001b[0;32m----> 4\u001b[0;31m \u001b[0mhd_inpaintr\u001b[0m \u001b[0;34m=\u001b[0m \u001b[0mutils\u001b[0m\u001b[0;34m.\u001b[0m\u001b[0mred_average\u001b[0m\u001b[0;34m(\u001b[0m\u001b[0mfrf_inpaint\u001b[0m\u001b[0;34m.\u001b[0m\u001b[0mhd\u001b[0m\u001b[0;34m,\u001b[0m \u001b[0minplace\u001b[0m\u001b[0;34m=\u001b[0m\u001b[0;32mFalse\u001b[0m\u001b[0;34m,\u001b[0m \u001b[0mreds\u001b[0m\u001b[0;34m=\u001b[0m\u001b[0mreds\u001b[0m\u001b[0;34m,\u001b[0m \u001b[0mred_bl_keys\u001b[0m\u001b[0;34m=\u001b[0m\u001b[0;34m[\u001b[0m\u001b[0mgrp\u001b[0m\u001b[0;34m[\u001b[0m\u001b[0;36m0\u001b[0m\u001b[0;34m]\u001b[0m \u001b[0;32mfor\u001b[0m \u001b[0mgrp\u001b[0m \u001b[0;32min\u001b[0m \u001b[0mreds\u001b[0m\u001b[0;34m]\u001b[0m\u001b[0;34m)\u001b[0m\u001b[0;34m\u001b[0m\u001b[0;34m\u001b[0m\u001b[0m\n\u001b[0m\u001b[1;32m      5\u001b[0m \u001b[0mfrf_inpaintr\u001b[0m \u001b[0;34m=\u001b[0m \u001b[0mfrf\u001b[0m\u001b[0;34m.\u001b[0m\u001b[0mFRFilter\u001b[0m\u001b[0;34m(\u001b[0m\u001b[0mhd_inpaintr\u001b[0m\u001b[0;34m)\u001b[0m\u001b[0;34m\u001b[0m\u001b[0;34m\u001b[0m\u001b[0m\n\u001b[1;32m      6\u001b[0m \u001b[0mfrf_inpaintr\u001b[0m\u001b[0;34m.\u001b[0m\u001b[0mfft_data\u001b[0m\u001b[0;34m(\u001b[0m\u001b[0mwindow\u001b[0m\u001b[0;34m=\u001b[0m\u001b[0;34m'bh'\u001b[0m\u001b[0;34m,\u001b[0m \u001b[0max\u001b[0m\u001b[0;34m=\u001b[0m\u001b[0;34m'both'\u001b[0m\u001b[0;34m,\u001b[0m \u001b[0massign\u001b[0m\u001b[0;34m=\u001b[0m\u001b[0;34m'dfft2'\u001b[0m\u001b[0;34m,\u001b[0m \u001b[0mverbose\u001b[0m\u001b[0;34m=\u001b[0m\u001b[0;32mFalse\u001b[0m\u001b[0;34m,\u001b[0m \u001b[0moverwrite\u001b[0m\u001b[0;34m=\u001b[0m\u001b[0;32mTrue\u001b[0m\u001b[0;34m)\u001b[0m\u001b[0;34m\u001b[0m\u001b[0;34m\u001b[0m\u001b[0m\n",
      "\u001b[0;32m/lustre/aoc/projects/hera/heramgr/anaconda2/envs/hera3dev/lib/python3.7/site-packages/hera_cal/utils.py\u001b[0m in \u001b[0;36mred_average\u001b[0;34m(data, reds, bl_tol, inplace, wgts, flags, nsamples, red_bl_keys, propagate_flags)\u001b[0m\n\u001b[1;32m   1310\u001b[0m                 \u001b[0mblinds\u001b[0m \u001b[0;34m=\u001b[0m \u001b[0mdata\u001b[0m\u001b[0;34m.\u001b[0m\u001b[0mantpair2ind\u001b[0m\u001b[0;34m(\u001b[0m\u001b[0mblk\u001b[0m\u001b[0;34m)\u001b[0m\u001b[0;34m\u001b[0m\u001b[0;34m\u001b[0m\u001b[0m\n\u001b[1;32m   1311\u001b[0m                 \u001b[0mpolind\u001b[0m \u001b[0;34m=\u001b[0m \u001b[0mpols\u001b[0m\u001b[0;34m.\u001b[0m\u001b[0mindex\u001b[0m\u001b[0;34m(\u001b[0m\u001b[0mpol\u001b[0m\u001b[0;34m)\u001b[0m\u001b[0;34m\u001b[0m\u001b[0;34m\u001b[0m\u001b[0m\n\u001b[0;32m-> 1312\u001b[0;31m                 \u001b[0mdata\u001b[0m\u001b[0;34m.\u001b[0m\u001b[0mdata_array\u001b[0m\u001b[0;34m[\u001b[0m\u001b[0mblinds\u001b[0m\u001b[0;34m,\u001b[0m \u001b[0;36m0\u001b[0m\u001b[0;34m,\u001b[0m \u001b[0;34m:\u001b[0m\u001b[0;34m,\u001b[0m \u001b[0mpolind\u001b[0m\u001b[0;34m]\u001b[0m \u001b[0;34m=\u001b[0m \u001b[0mdavg\u001b[0m\u001b[0;34m\u001b[0m\u001b[0;34m\u001b[0m\u001b[0m\n\u001b[0m\u001b[1;32m   1313\u001b[0m                 \u001b[0mdata\u001b[0m\u001b[0;34m.\u001b[0m\u001b[0mflag_array\u001b[0m\u001b[0;34m[\u001b[0m\u001b[0mblinds\u001b[0m\u001b[0;34m,\u001b[0m \u001b[0;36m0\u001b[0m\u001b[0;34m,\u001b[0m \u001b[0;34m:\u001b[0m\u001b[0;34m,\u001b[0m \u001b[0mpolind\u001b[0m\u001b[0;34m]\u001b[0m \u001b[0;34m=\u001b[0m \u001b[0mfavg\u001b[0m\u001b[0;34m\u001b[0m\u001b[0;34m\u001b[0m\u001b[0m\n\u001b[1;32m   1314\u001b[0m                 \u001b[0mdata\u001b[0m\u001b[0;34m.\u001b[0m\u001b[0mnsample_array\u001b[0m\u001b[0;34m[\u001b[0m\u001b[0mblinds\u001b[0m\u001b[0;34m,\u001b[0m \u001b[0;36m0\u001b[0m\u001b[0;34m,\u001b[0m \u001b[0;34m:\u001b[0m\u001b[0;34m,\u001b[0m \u001b[0mpolind\u001b[0m\u001b[0;34m]\u001b[0m \u001b[0;34m=\u001b[0m \u001b[0mnavg\u001b[0m\u001b[0;34m\u001b[0m\u001b[0;34m\u001b[0m\u001b[0m\n",
      "\u001b[0;31mValueError\u001b[0m: shape mismatch: value array of shape (121,170)  could not be broadcast to indexing result of shape (0,170)"
     ]
    }
   ],
   "source": [
    "frf_inpaint = frf.FRFilter(time_inpainted_sums)\n",
    "frf_inpaint.read(axis='blt')\n",
    "# generate redundantly averaged data\n",
    "hd_inpaintr = utils.red_average(frf_inpaint.hd, inplace=False, reds=reds, red_bl_keys=[grp[0] for grp in reds])\n",
    "frf_inpaintr = frf.FRFilter(hd_inpaintr)\n",
    "frf_inpaintr.fft_data(window='bh', ax='both', assign='dfft2', verbose=False, overwrite=True)\n",
    "frf_inpaintr.fft_data(window='bh', ax='freq', assign='dfft', verbose=False, overwrite=True)\n"
   ]
  },
  {
   "cell_type": "code",
   "execution_count": 7,
   "id": "domestic-staff",
   "metadata": {
    "ExecuteTime": {
     "end_time": "2021-04-29T17:03:14.917215Z",
     "start_time": "2021-04-29T17:03:14.872701Z"
    },
    "code_folding": [
     0
    ],
    "execution": {
     "iopub.execute_input": "2021-05-07T16:36:05.130581Z",
     "iopub.status.busy": "2021-05-07T16:36:05.128710Z",
     "iopub.status.idle": "2021-05-07T16:36:05.176839Z",
     "shell.execute_reply": "2021-05-07T16:36:05.177770Z"
    }
   },
   "outputs": [],
   "source": [
    "def delay_plots(frft, frft_red):\n",
    "    frft.fft_data(window='bh', ax='both', assign='dfft2', keys=[reds[0][0] + ('nn',)], overwrite=True)\n",
    "    df = np.mean(np.diff(frft.freqs))\n",
    "    dt = np.mean(np.diff(frft.times * 3600 * 24))\n",
    "    cmax_frate = 10 ** np.round(np.log10(np.abs(frft_red.dfft2[reds[0][0] + ('nn',)] * dt * df).max()))\n",
    "    cmin_frate = cmax_frate / 1e5\n",
    "    cmax_delay = 10 ** np.round(np.log10(np.abs(frft_red.dfft[reds[0][0] + ('nn',)] * df).max()))\n",
    "    cmin_delay = cmax_delay / 1e5\n",
    "    for gn, grp in enumerate(reds[::nskip][:nreds]):\n",
    "        ext_frate = [frft.delays.min(), frft.delays.max(), frft.frates.max(), frft.frates.min()]\n",
    "        ext_tdelay = [frft.delays.min(), frft.delays.max(), \n",
    "                frft.times.max(), frft.times.min()]\n",
    "        lst_func = interp1d(frft.times, frft.lsts * 12 / np.pi)\n",
    "        fig, axarr = plt.subplots(2, 2 * min(len(grp) + 1, max_bls_per_redgrp + 1))\n",
    "        nbls = (len(axarr[0]) - 1) // 2\n",
    "        fig.set_size_inches(32, 8)\n",
    "        cbax1 = fig.add_axes([0.105, 0.35, 0.005, 0.3])\n",
    "        cbax2 = fig.add_axes([0.915, 0.35, 0.005, 0.3])\n",
    "        if grp[0] in frft.bllens:\n",
    "            hrzn_dly = frft.bllens[grp[0]] * 1e9\n",
    "            blvec = frft.blvecs[grp[0]]\n",
    "        else:\n",
    "            hrzn_dly = frft.bllens[grp[0][::-1]] * 1e9\n",
    "            blvec = -frft.blvecs[grp[0][::-1]]\n",
    "\n",
    "        # get vmin and vmax from grp[0][0] min / max rounded up / down\n",
    "        # generate fringe-rate plots.\n",
    "        for pn, pol in enumerate(['ee', 'nn']):\n",
    "            for blnum in range(nbls + 1):\n",
    "                plt.sca(axarr[pn][blnum])\n",
    "                if blnum < nbls:\n",
    "                    bl = grp[blnum]\n",
    "                    blk = bl + (pol,)\n",
    "                    frft.fft_data(window='bh', ax='both', assign='dfft2', keys=[blk], overwrite=True)\n",
    "                    cm = plt.imshow(np.abs(frft.dfft2[blk] * df * dt), norm=LogNorm(cmin_frate, cmax_frate), extent=ext_frate, aspect='auto', interpolation='nearest', cmap='inferno')\n",
    "                    plt.title(f'{blk}')\n",
    "                else:\n",
    "                    blk = grp[0] + (pol,)\n",
    "                    d = frft_red.dfft2[blk] * df * dt\n",
    "                    conj = blk not in list(frft_red.data.keys())\n",
    "                    if conj:\n",
    "                        d = np.conj(d[::-1, ::-1])\n",
    "                    cm = plt.imshow(np.abs(d), norm=LogNorm(cmin_frate, cmax_frate), extent=ext_frate, aspect='auto', interpolation='nearest', cmap='inferno')\n",
    "                    plt.title(f'{blvec[0]:.1f} m, {blvec[1]:.1f} m, {pol}')\n",
    "                plt.xlim(-1000, 1000)\n",
    "                plt.ylim(-1.5, 1.5)\n",
    "                plt.axvline(hrzn_dly, ls='--', color='w', lw=1)\n",
    "                plt.axvline(-hrzn_dly, ls='--', color='w', lw=1)\n",
    "                if pn == 0:\n",
    "                    cbar = fig.colorbar(cm, orientation='vertical', cax=cbax1)\n",
    "                    cbax1.yaxis.set_ticks_position('left')\n",
    "                    plt.gca().set_xticklabels(['' for tick in plt.gca().get_xticklabels()])\n",
    "                    cbar.ax.set_ylabel('Abs($\\\\widetilde{V}_{\\\\tau, f_r}$) [Jy]', rotation=90)\n",
    "                else:\n",
    "                    plt.gca().set_xlabel('$\\\\tau$ [ns]')\n",
    "                if blnum > 0:\n",
    "                    plt.gca().set_yticklabels(['' for tick in plt.gca().get_yticklabels()])\n",
    "                else:\n",
    "                    plt.gca().set_ylabel('$f_r$ [mHz]')\n",
    "\n",
    "        # generate delay-waterfall plots.\n",
    "        for pn, pol in enumerate(['ee', 'nn']):\n",
    "            for blnum in range(nbls + 1):\n",
    "                plt.sca(axarr[pn][blnum + nbls + 1])\n",
    "                if blnum < nbls:\n",
    "                    bl = grp[blnum]\n",
    "                    blk = bl + (pol,)\n",
    "                    frft.fft_data(window='bh', ax='freq', assign='dfft', keys=[blk], overwrite=True)\n",
    "                    cm = plt.imshow(np.abs(frft.dfft[blk] * df), norm=LogNorm(cmin_delay, cmax_delay), extent=ext_tdelay, aspect='auto', interpolation='nearest', cmap='inferno')\n",
    "                    plt.title(f'{blk}')\n",
    "                else:\n",
    "                    blk = grp[0] + (pol,)\n",
    "                    d = frft_red.dfft[blk] * df\n",
    "                    conj = blk not in list(frft_red.data.keys())\n",
    "                    if conj:\n",
    "                        d = np.conj(d[:, ::-1])\n",
    "                    cm = plt.imshow(np.abs(d), norm=LogNorm(cmin_delay, cmax_delay), extent=ext_tdelay, aspect='auto', interpolation='nearest', cmap='inferno')\n",
    "                    plt.title(f'{blvec[0]:.1f} m, {blvec[1]:.1f} m, {pol}')\n",
    "                plt.xlim(-1000, 1000)\n",
    "                plt.axvline(hrzn_dly, ls='--', color='w', lw=1)\n",
    "                plt.axvline(-hrzn_dly, ls='--', color='w', lw=1)\n",
    "                plt.gca().set_yticks([t for t in plt.gca().get_yticks() if t >= ext_tdelay[-1] and t <= ext_tdelay[-2]])\n",
    "                if pn == 0:\n",
    "                    plt.gca().set_xticklabels(['' for tick in plt.gca().get_xticklabels()])\n",
    "                else:\n",
    "                    plt.gca().set_xlabel('$\\\\tau$ [ns]')\n",
    "                if blnum < nbls:\n",
    "                    plt.gca().set_yticklabels(['' for tick in plt.gca().get_yticklabels()])\n",
    "                else:\n",
    "                    plt.gca().set_ylabel('LST [Hrs]')\n",
    "                    plt.gca().set_yticklabels([f'{lst_func(t):.1f}' for t in plt.gca().get_yticks()])\n",
    "                    cbar = fig.colorbar(cm, orientation='vertical', cax=cbax2)\n",
    "                    cbar.ax.set_ylabel('Abs($\\\\widetilde{V}$) [Jy Hz]', rotation=90)\n",
    "\n",
    "                plt.gca().yaxis.tick_right()\n",
    "                plt.gca().yaxis.set_label_position(\"right\")\n",
    "\n",
    "\n",
    "\n",
    "        plt.show()\n"
   ]
  },
  {
   "cell_type": "code",
   "execution_count": 8,
   "id": "domestic-ferry",
   "metadata": {
    "ExecuteTime": {
     "end_time": "2021-04-29T17:03:15.223889Z",
     "start_time": "2021-04-29T17:03:15.183017Z"
    },
    "code_folding": [],
    "execution": {
     "iopub.execute_input": "2021-05-07T16:36:05.182101Z",
     "iopub.status.busy": "2021-05-07T16:36:05.180704Z",
     "iopub.status.idle": "2021-05-07T16:36:05.209752Z",
     "shell.execute_reply": "2021-05-07T16:36:05.210525Z"
    }
   },
   "outputs": [],
   "source": [
    "def freq_plots(frft, frft_red):\n",
    "    cmax_freq = 10 ** np.round(np.log10(np.abs(frft_red.data[reds[0][0] + ('nn',)]).max()))\n",
    "    cmin_freq = cmax_frate / 1e5\n",
    "    for gn, grp in enumerate(reds[::nskip][:nreds]):\n",
    "        ext_freq = [frft.freqs.min() / 1e6, frft.freqs.max() / 1e6, \n",
    "                    frft.times.max(), frft.times.min()]\n",
    "        lst_func = interp1d(frft.times, frft.lsts * 12 / np.pi)\n",
    "        fig, axarr = plt.subplots(2, 2 * min(len(grp) + 1, max_bls_per_redgrp + 1))\n",
    "        cbax1 = fig.add_axes([0.105, 0.35, 0.005, 0.3])\n",
    "        cbax2 = fig.add_axes([0.915, 0.35, 0.005, 0.3])\n",
    "        nbls = (len(axarr[0]) - 1) // 2\n",
    "        fig.set_size_inches(32, 8)\n",
    "        if grp[0] in frft.bllens:\n",
    "            hrzn_dly = frft.bllens[grp[0]] * 1e9\n",
    "            blvec = frft.blvecs[grp[0]]\n",
    "        else:\n",
    "            hrzn_dly = frft.bllens[grp[0][::-1]] * 1e9\n",
    "            blvec = -frft.blvecs[grp[0][::-1]]\n",
    "\n",
    "        # generate fringe-rate plots.\n",
    "        for pn, pol in enumerate(['ee', 'nn']):\n",
    "            for blnum in range(nbls + 1):\n",
    "                plt.sca(axarr[pn][blnum])\n",
    "                if blnum < nbls:\n",
    "                    bl = grp[blnum]\n",
    "                    blk = bl + (pol,)\n",
    "                    cm = plt.imshow(np.abs(frft.data[blk]) / ~frft.flags[blk], norm=LogNorm(cmin_freq, cmax_freq), extent=ext_freq, aspect='auto', interpolation='nearest', cmap='inferno')\n",
    "                    plt.title(f'{blk}')\n",
    "                else:\n",
    "                    blk = grp[0] + (pol,)\n",
    "                    d = frft_red.data[blk]\n",
    "                    conj = blk not in list(frft_red.data.keys())\n",
    "                    if conj:\n",
    "                        d = np.conj(d)\n",
    "                    cm = plt.imshow(np.abs(d), norm=LogNorm(cmin_freq, cmax_freq), extent=ext_freq, aspect='auto', interpolation='nearest', cmap='inferno')\n",
    "                    plt.title(f'{blvec[0]:.1f} m, {blvec[1]:.1f} m, {pol}')\n",
    "                plt.gca().set_yticks([t for t in plt.gca().get_yticks() if t >= ext_freq[-1] and t <= ext_freq[-2]])\n",
    "                if pn == 0:\n",
    "                    plt.gca().set_xticklabels(['' for tick in plt.gca().get_xticklabels()])\n",
    "                    cbar = fig.colorbar(cm, orientation='vertical', cax=cbax1)\n",
    "                    cbax1.yaxis.set_ticks_position('left')\n",
    "                    cbar.ax.set_ylabel('Abs(V) [Jy]', rotation=90)\n",
    "                else:\n",
    "                    plt.gca().set_xlabel('$\\\\nu$ [MHz]')\n",
    "                if blnum > 0:\n",
    "                    plt.gca().set_yticklabels(['' for tick in plt.gca().get_yticklabels()])\n",
    "                else:\n",
    "                    plt.gca().set_ylabel('LST [Hrs]')\n",
    "                    plt.gca().set_yticklabels([f'{lst_func(t):.1f}' for t in plt.gca().get_yticks()])\n",
    "\n",
    "        # generate delay-waterfall plots.\n",
    "        for pn, pol in enumerate(['ee', 'nn']):\n",
    "            for blnum in range(nbls + 1):\n",
    "                plt.sca(axarr[pn][blnum + nbls + 1])\n",
    "                if blnum < nbls:\n",
    "                    bl = grp[blnum]\n",
    "                    blk = bl + (pol,)\n",
    "                    frft.fft_data(window='bh', ax='freq', assign='dfft', keys=[blk], overwrite=True)\n",
    "                    cm = plt.imshow(np.angle(frft.data[blk]) /  ~frft.flags[blk], vmin=-np.pi, vmax=np.pi, extent=ext_freq, aspect='auto', interpolation='nearest', cmap='twilight')\n",
    "                    plt.title(f'{blk}')\n",
    "                else:\n",
    "                    blk = grp[0] + (pol,)\n",
    "                    d = frft_red.data[blk]\n",
    "                    conj = blk not in list(frft_red.data.keys())\n",
    "                    if conj:\n",
    "                        d = np.conj(d)\n",
    "                    cm = plt.imshow(np.angle(d) /  ~frft.flags[blk], vmin=-np.pi, vmax=np.pi, extent=ext_freq, aspect='auto', interpolation='nearest', cmap='twilight')\n",
    "                    plt.title(f'{blvec[0]:.1f} m, {blvec[1]:.1f} m, {pol}')\n",
    "                plt.gca().set_yticks([t for t in plt.gca().get_yticks() if t >= ext_freq[-1] and t <= ext_freq[-2]])\n",
    "                if pn == 0:\n",
    "                    plt.gca().set_xticklabels(['' for tick in plt.gca().get_xticklabels()])\n",
    "                else:\n",
    "                    plt.gca().set_xlabel('$\\\\nu$ [MHz]')\n",
    "                if blnum < nbls:\n",
    "                    plt.gca().set_yticklabels(['' for tick in plt.gca().get_yticklabels()])\n",
    "                else:\n",
    "                    plt.gca().set_ylabel('LST [Hrs]')\n",
    "                    plt.gca().set_yticklabels([f'{lst_func(t):.1f}' for t in plt.gca().get_yticks()])\n",
    "                    cbar = fig.colorbar(cm, orientation='vertical', cax=cbax2)\n",
    "                    cbar.ax.set_ylabel('Arg(V) [rad]', rotation=270)\n",
    "\n",
    "                plt.gca().yaxis.tick_right()\n",
    "                plt.gca().yaxis.set_label_position(\"right\")\n",
    "\n",
    "\n",
    "\n",
    "        plt.show()\n",
    "\n",
    "        "
   ]
  },
  {
   "cell_type": "code",
   "execution_count": 9,
   "id": "controlling-assurance",
   "metadata": {
    "ExecuteTime": {
     "end_time": "2021-04-29T17:03:35.525699Z",
     "start_time": "2021-04-29T17:03:16.936707Z"
    },
    "code_folding": [],
    "execution": {
     "iopub.execute_input": "2021-05-07T16:36:05.214036Z",
     "iopub.status.busy": "2021-05-07T16:36:05.212925Z",
     "iopub.status.idle": "2021-05-07T16:36:05.224115Z",
     "shell.execute_reply": "2021-05-07T16:36:05.224890Z"
    },
    "scrolled": false
   },
   "outputs": [
    {
     "ename": "NameError",
     "evalue": "name 'frf_inpaintr' is not defined",
     "output_type": "error",
     "traceback": [
      "\u001b[0;31m---------------------------------------------------------------------------\u001b[0m",
      "\u001b[0;31mNameError\u001b[0m                                 Traceback (most recent call last)",
      "\u001b[0;32m<ipython-input-1-4792f859d8c1>\u001b[0m in \u001b[0;36m<module>\u001b[0;34m\u001b[0m\n\u001b[0;32m----> 1\u001b[0;31m \u001b[0mfreq_plots\u001b[0m\u001b[0;34m(\u001b[0m\u001b[0mfrf_inpaint\u001b[0m\u001b[0;34m,\u001b[0m \u001b[0mfrf_inpaintr\u001b[0m\u001b[0;34m)\u001b[0m\u001b[0;34m\u001b[0m\u001b[0;34m\u001b[0m\u001b[0m\n\u001b[0m",
      "\u001b[0;31mNameError\u001b[0m: name 'frf_inpaintr' is not defined"
     ]
    }
   ],
   "source": [
    "freq_plots(frf_inpaint, frf_inpaintr)"
   ]
  },
  {
   "cell_type": "code",
   "execution_count": 10,
   "id": "fuzzy-gateway",
   "metadata": {
    "ExecuteTime": {
     "end_time": "2021-04-29T17:04:05.212489Z",
     "start_time": "2021-04-29T17:03:42.787930Z"
    },
    "code_folding": [],
    "execution": {
     "iopub.execute_input": "2021-05-07T16:36:05.228176Z",
     "iopub.status.busy": "2021-05-07T16:36:05.227104Z",
     "iopub.status.idle": "2021-05-07T16:36:05.236620Z",
     "shell.execute_reply": "2021-05-07T16:36:05.237392Z"
    },
    "scrolled": false
   },
   "outputs": [
    {
     "ename": "NameError",
     "evalue": "name 'frf_inpaintr' is not defined",
     "output_type": "error",
     "traceback": [
      "\u001b[0;31m---------------------------------------------------------------------------\u001b[0m",
      "\u001b[0;31mNameError\u001b[0m                                 Traceback (most recent call last)",
      "\u001b[0;32m<ipython-input-1-d397c63602d8>\u001b[0m in \u001b[0;36m<module>\u001b[0;34m\u001b[0m\n\u001b[0;32m----> 1\u001b[0;31m \u001b[0mdelay_plots\u001b[0m\u001b[0;34m(\u001b[0m\u001b[0mfrf_inpaint\u001b[0m\u001b[0;34m,\u001b[0m \u001b[0mfrf_inpaintr\u001b[0m\u001b[0;34m)\u001b[0m\u001b[0;34m\u001b[0m\u001b[0;34m\u001b[0m\u001b[0m\n\u001b[0m\u001b[1;32m      2\u001b[0m \u001b[0;34m\u001b[0m\u001b[0m\n",
      "\u001b[0;31mNameError\u001b[0m: name 'frf_inpaintr' is not defined"
     ]
    }
   ],
   "source": [
    "delay_plots(frf_inpaint, frf_inpaintr)\n",
    "        "
   ]
  },
  {
   "cell_type": "code",
   "execution_count": 11,
   "id": "disturbed-exception",
   "metadata": {
    "ExecuteTime": {
     "end_time": "2021-04-29T05:42:02.908227Z",
     "start_time": "2021-04-29T05:41:59.360Z"
    },
    "execution": {
     "iopub.execute_input": "2021-05-07T16:36:05.240800Z",
     "iopub.status.busy": "2021-05-07T16:36:05.239704Z",
     "iopub.status.idle": "2021-05-07T16:40:51.508751Z",
     "shell.execute_reply": "2021-05-07T16:40:51.509536Z"
    }
   },
   "outputs": [
    {
     "name": "stderr",
     "output_type": "stream",
     "text": [
      "Mean of empty slice.\n",
      "invalid value encountered in double_scalars\n"
     ]
    },
    {
     "ename": "ValueError",
     "evalue": "shape mismatch: value array of shape (121,170)  could not be broadcast to indexing result of shape (0,170)",
     "output_type": "error",
     "traceback": [
      "\u001b[0;31m---------------------------------------------------------------------------\u001b[0m",
      "\u001b[0;31mValueError\u001b[0m                                Traceback (most recent call last)",
      "\u001b[0;32m<ipython-input-1-dbf1ee6cbd55>\u001b[0m in \u001b[0;36m<module>\u001b[0;34m\u001b[0m\n\u001b[1;32m      2\u001b[0m \u001b[0mfrf_xtalk\u001b[0m\u001b[0;34m.\u001b[0m\u001b[0mread\u001b[0m\u001b[0;34m(\u001b[0m\u001b[0maxis\u001b[0m\u001b[0;34m=\u001b[0m\u001b[0;34m'blt'\u001b[0m\u001b[0;34m)\u001b[0m\u001b[0;34m\u001b[0m\u001b[0;34m\u001b[0m\u001b[0m\n\u001b[1;32m      3\u001b[0m \u001b[0;31m# generate redundantly averaged data\u001b[0m\u001b[0;34m\u001b[0m\u001b[0;34m\u001b[0m\u001b[0;34m\u001b[0m\u001b[0m\n\u001b[0;32m----> 4\u001b[0;31m \u001b[0mhd_xtalkr\u001b[0m \u001b[0;34m=\u001b[0m \u001b[0mutils\u001b[0m\u001b[0;34m.\u001b[0m\u001b[0mred_average\u001b[0m\u001b[0;34m(\u001b[0m\u001b[0mfrf_xtalk\u001b[0m\u001b[0;34m.\u001b[0m\u001b[0mhd\u001b[0m\u001b[0;34m,\u001b[0m \u001b[0minplace\u001b[0m\u001b[0;34m=\u001b[0m\u001b[0;32mFalse\u001b[0m\u001b[0;34m,\u001b[0m \u001b[0mreds\u001b[0m\u001b[0;34m=\u001b[0m\u001b[0mreds\u001b[0m\u001b[0;34m,\u001b[0m \u001b[0mred_bl_keys\u001b[0m\u001b[0;34m=\u001b[0m\u001b[0;34m[\u001b[0m\u001b[0mgrp\u001b[0m\u001b[0;34m[\u001b[0m\u001b[0;36m0\u001b[0m\u001b[0;34m]\u001b[0m \u001b[0;32mfor\u001b[0m \u001b[0mgrp\u001b[0m \u001b[0;32min\u001b[0m \u001b[0mreds\u001b[0m\u001b[0;34m]\u001b[0m\u001b[0;34m)\u001b[0m\u001b[0;34m\u001b[0m\u001b[0;34m\u001b[0m\u001b[0m\n\u001b[0m\u001b[1;32m      5\u001b[0m \u001b[0mfrf_xtalkr\u001b[0m \u001b[0;34m=\u001b[0m \u001b[0mfrf\u001b[0m\u001b[0;34m.\u001b[0m\u001b[0mFRFilter\u001b[0m\u001b[0;34m(\u001b[0m\u001b[0mhd_xtalkr\u001b[0m\u001b[0;34m)\u001b[0m\u001b[0;34m\u001b[0m\u001b[0;34m\u001b[0m\u001b[0m\n\u001b[1;32m      6\u001b[0m \u001b[0mfrf_xtalkr\u001b[0m\u001b[0;34m.\u001b[0m\u001b[0mfft_data\u001b[0m\u001b[0;34m(\u001b[0m\u001b[0mwindow\u001b[0m\u001b[0;34m=\u001b[0m\u001b[0;34m'bh'\u001b[0m\u001b[0;34m,\u001b[0m \u001b[0max\u001b[0m\u001b[0;34m=\u001b[0m\u001b[0;34m'both'\u001b[0m\u001b[0;34m,\u001b[0m \u001b[0massign\u001b[0m\u001b[0;34m=\u001b[0m\u001b[0;34m'dfft2'\u001b[0m\u001b[0;34m,\u001b[0m \u001b[0mverbose\u001b[0m\u001b[0;34m=\u001b[0m\u001b[0;32mFalse\u001b[0m\u001b[0;34m,\u001b[0m \u001b[0moverwrite\u001b[0m\u001b[0;34m=\u001b[0m\u001b[0;32mTrue\u001b[0m\u001b[0;34m)\u001b[0m\u001b[0;34m\u001b[0m\u001b[0;34m\u001b[0m\u001b[0m\n",
      "\u001b[0;32m/lustre/aoc/projects/hera/heramgr/anaconda2/envs/hera3dev/lib/python3.7/site-packages/hera_cal/utils.py\u001b[0m in \u001b[0;36mred_average\u001b[0;34m(data, reds, bl_tol, inplace, wgts, flags, nsamples, red_bl_keys, propagate_flags)\u001b[0m\n\u001b[1;32m   1310\u001b[0m                 \u001b[0mblinds\u001b[0m \u001b[0;34m=\u001b[0m \u001b[0mdata\u001b[0m\u001b[0;34m.\u001b[0m\u001b[0mantpair2ind\u001b[0m\u001b[0;34m(\u001b[0m\u001b[0mblk\u001b[0m\u001b[0;34m)\u001b[0m\u001b[0;34m\u001b[0m\u001b[0;34m\u001b[0m\u001b[0m\n\u001b[1;32m   1311\u001b[0m                 \u001b[0mpolind\u001b[0m \u001b[0;34m=\u001b[0m \u001b[0mpols\u001b[0m\u001b[0;34m.\u001b[0m\u001b[0mindex\u001b[0m\u001b[0;34m(\u001b[0m\u001b[0mpol\u001b[0m\u001b[0;34m)\u001b[0m\u001b[0;34m\u001b[0m\u001b[0;34m\u001b[0m\u001b[0m\n\u001b[0;32m-> 1312\u001b[0;31m                 \u001b[0mdata\u001b[0m\u001b[0;34m.\u001b[0m\u001b[0mdata_array\u001b[0m\u001b[0;34m[\u001b[0m\u001b[0mblinds\u001b[0m\u001b[0;34m,\u001b[0m \u001b[0;36m0\u001b[0m\u001b[0;34m,\u001b[0m \u001b[0;34m:\u001b[0m\u001b[0;34m,\u001b[0m \u001b[0mpolind\u001b[0m\u001b[0;34m]\u001b[0m \u001b[0;34m=\u001b[0m \u001b[0mdavg\u001b[0m\u001b[0;34m\u001b[0m\u001b[0;34m\u001b[0m\u001b[0m\n\u001b[0m\u001b[1;32m   1313\u001b[0m                 \u001b[0mdata\u001b[0m\u001b[0;34m.\u001b[0m\u001b[0mflag_array\u001b[0m\u001b[0;34m[\u001b[0m\u001b[0mblinds\u001b[0m\u001b[0;34m,\u001b[0m \u001b[0;36m0\u001b[0m\u001b[0;34m,\u001b[0m \u001b[0;34m:\u001b[0m\u001b[0;34m,\u001b[0m \u001b[0mpolind\u001b[0m\u001b[0;34m]\u001b[0m \u001b[0;34m=\u001b[0m \u001b[0mfavg\u001b[0m\u001b[0;34m\u001b[0m\u001b[0;34m\u001b[0m\u001b[0m\n\u001b[1;32m   1314\u001b[0m                 \u001b[0mdata\u001b[0m\u001b[0;34m.\u001b[0m\u001b[0mnsample_array\u001b[0m\u001b[0;34m[\u001b[0m\u001b[0mblinds\u001b[0m\u001b[0;34m,\u001b[0m \u001b[0;36m0\u001b[0m\u001b[0;34m,\u001b[0m \u001b[0;34m:\u001b[0m\u001b[0;34m,\u001b[0m \u001b[0mpolind\u001b[0m\u001b[0;34m]\u001b[0m \u001b[0;34m=\u001b[0m \u001b[0mnavg\u001b[0m\u001b[0;34m\u001b[0m\u001b[0;34m\u001b[0m\u001b[0m\n",
      "\u001b[0;31mValueError\u001b[0m: shape mismatch: value array of shape (121,170)  could not be broadcast to indexing result of shape (0,170)"
     ]
    }
   ],
   "source": [
    "frf_xtalk = frf.FRFilter(xtalk_filtered_sums)\n",
    "frf_xtalk.read(axis='blt')\n",
    "# generate redundantly averaged data\n",
    "hd_xtalkr = utils.red_average(frf_xtalk.hd, inplace=False, reds=reds, red_bl_keys=[grp[0] for grp in reds])\n",
    "frf_xtalkr = frf.FRFilter(hd_xtalkr)\n",
    "frf_xtalkr.fft_data(window='bh', ax='both', assign='dfft2', verbose=False, overwrite=True)\n",
    "frf_xtalkr.fft_data(window='bh', ax='freq', assign='dfft', verbose=False, overwrite=True)\n"
   ]
  },
  {
   "cell_type": "code",
   "execution_count": 12,
   "id": "relative-shepherd",
   "metadata": {
    "ExecuteTime": {
     "end_time": "2021-04-29T17:04:42.547764Z",
     "start_time": "2021-04-29T17:04:25.590407Z"
    },
    "execution": {
     "iopub.execute_input": "2021-05-07T16:40:51.513282Z",
     "iopub.status.busy": "2021-05-07T16:40:51.512130Z",
     "iopub.status.idle": "2021-05-07T16:40:51.520624Z",
     "shell.execute_reply": "2021-05-07T16:40:51.521228Z"
    },
    "scrolled": false
   },
   "outputs": [
    {
     "ename": "NameError",
     "evalue": "name 'frf_xtalkr' is not defined",
     "output_type": "error",
     "traceback": [
      "\u001b[0;31m---------------------------------------------------------------------------\u001b[0m",
      "\u001b[0;31mNameError\u001b[0m                                 Traceback (most recent call last)",
      "\u001b[0;32m<ipython-input-1-8b1d1fcea86d>\u001b[0m in \u001b[0;36m<module>\u001b[0;34m\u001b[0m\n\u001b[0;32m----> 1\u001b[0;31m \u001b[0mfreq_plots\u001b[0m\u001b[0;34m(\u001b[0m\u001b[0mfrf_xtalk\u001b[0m\u001b[0;34m,\u001b[0m \u001b[0mfrf_xtalkr\u001b[0m\u001b[0;34m)\u001b[0m\u001b[0;34m\u001b[0m\u001b[0;34m\u001b[0m\u001b[0m\n\u001b[0m",
      "\u001b[0;31mNameError\u001b[0m: name 'frf_xtalkr' is not defined"
     ]
    }
   ],
   "source": [
    "freq_plots(frf_xtalk, frf_xtalkr)"
   ]
  },
  {
   "cell_type": "code",
   "execution_count": 13,
   "id": "phantom-borough",
   "metadata": {
    "ExecuteTime": {
     "end_time": "2021-04-29T17:05:04.201849Z",
     "start_time": "2021-04-29T17:04:42.549469Z"
    },
    "execution": {
     "iopub.execute_input": "2021-05-07T16:40:51.523874Z",
     "iopub.status.busy": "2021-05-07T16:40:51.523035Z",
     "iopub.status.idle": "2021-05-07T16:40:51.531699Z",
     "shell.execute_reply": "2021-05-07T16:40:51.532395Z"
    },
    "scrolled": false
   },
   "outputs": [
    {
     "ename": "NameError",
     "evalue": "name 'frf_xtalkr' is not defined",
     "output_type": "error",
     "traceback": [
      "\u001b[0;31m---------------------------------------------------------------------------\u001b[0m",
      "\u001b[0;31mNameError\u001b[0m                                 Traceback (most recent call last)",
      "\u001b[0;32m<ipython-input-1-f46eb4613052>\u001b[0m in \u001b[0;36m<module>\u001b[0;34m\u001b[0m\n\u001b[0;32m----> 1\u001b[0;31m \u001b[0mdelay_plots\u001b[0m\u001b[0;34m(\u001b[0m\u001b[0mfrf_xtalk\u001b[0m\u001b[0;34m,\u001b[0m \u001b[0mfrf_xtalkr\u001b[0m\u001b[0;34m)\u001b[0m\u001b[0;34m\u001b[0m\u001b[0;34m\u001b[0m\u001b[0m\n\u001b[0m",
      "\u001b[0;31mNameError\u001b[0m: name 'frf_xtalkr' is not defined"
     ]
    }
   ],
   "source": [
    "delay_plots(frf_xtalk, frf_xtalkr)"
   ]
  }
 ],
 "metadata": {
  "kernelspec": {
   "display_name": "Python 3",
   "language": "python",
   "name": "python3"
  },
  "language_info": {
   "codemirror_mode": {
    "name": "ipython",
    "version": 3
   },
   "file_extension": ".py",
   "mimetype": "text/x-python",
   "name": "python",
   "nbconvert_exporter": "python",
   "pygments_lexer": "ipython3",
   "version": "3.7.9"
  }
 },
 "nbformat": 4,
 "nbformat_minor": 5
}
