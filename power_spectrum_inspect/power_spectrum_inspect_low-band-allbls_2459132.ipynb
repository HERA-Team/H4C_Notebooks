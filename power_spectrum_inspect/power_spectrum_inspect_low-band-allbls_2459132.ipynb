{
 "cells": [
  {
   "cell_type": "code",
   "execution_count": 1,
   "id": "contrary-cannon",
   "metadata": {
    "ExecuteTime": {
     "end_time": "2021-05-05T16:25:47.032199Z",
     "start_time": "2021-05-05T16:25:46.917082Z"
    },
    "execution": {
     "iopub.execute_input": "2021-05-07T16:40:59.618156Z",
     "iopub.status.busy": "2021-05-07T16:40:59.616781Z",
     "iopub.status.idle": "2021-05-07T16:41:05.794438Z",
     "shell.execute_reply": "2021-05-07T16:41:05.795554Z"
    }
   },
   "outputs": [
    {
     "name": "stderr",
     "output_type": "stream",
     "text": [
      "/lustre/aoc/projects/hera/heramgr/anaconda2/envs/hera3dev/lib/python3.7/site-packages/hera_sim/visibilities/__init__.py:22: UserWarning: HealVis failed to import.\n",
      "  warnings.warn(\"HealVis failed to import.\")\n",
      "/lustre/aoc/projects/hera/heramgr/anaconda2/envs/hera3dev/lib/python3.7/site-packages/hera_sim/visibilities/__init__.py:27: UserWarning: PRISim failed to import.\n",
      "  warnings.warn(\"PRISim failed to import.\")\n",
      "/lustre/aoc/projects/hera/heramgr/anaconda2/envs/hera3dev/lib/python3.7/site-packages/hera_sim/visibilities/__init__.py:33: UserWarning: VisGPU failed to import.\n",
      "  warnings.warn(\"VisGPU failed to import.\")\n",
      "/lustre/aoc/projects/hera/heramgr/anaconda2/envs/hera3dev/lib/python3.7/site-packages/hera_sim/__init__.py:36: FutureWarning: \n",
      "In the next major release, all HERA-specific variables will be removed from the codebase. The following variables will need to be accessed through new class-like structures to be introduced in the next major release: \n",
      "\n",
      "noise.HERA_Tsky_mdl\n",
      "noise.HERA_BEAM_POLY\n",
      "sigchain.HERA_NRAO_BANDPASS\n",
      "rfi.HERA_RFI_STATIONS\n",
      "\n",
      "Additionally, the next major release will involve modifications to the package's API, which move toward a regularization of the way in which hera_sim methods are interfaced with; in particular, changes will be made such that the Simulator class is the most intuitive way of interfacing with the hera_sim package features.\n",
      "  FutureWarning)\n"
     ]
    },
    {
     "ename": "ModuleNotFoundError",
     "evalue": "No module named 'tqdm'",
     "output_type": "error",
     "traceback": [
      "\u001b[0;31m---------------------------------------------------------------------------\u001b[0m",
      "\u001b[0;31mModuleNotFoundError\u001b[0m                       Traceback (most recent call last)",
      "\u001b[0;32m<ipython-input-1-63dbca3d1d47>\u001b[0m in \u001b[0;36m<module>\u001b[0;34m\u001b[0m\n\u001b[1;32m     18\u001b[0m \u001b[0;32mfrom\u001b[0m \u001b[0mhera_pspec\u001b[0m \u001b[0;32mimport\u001b[0m \u001b[0mgrouping\u001b[0m\u001b[0;34m\u001b[0m\u001b[0;34m\u001b[0m\u001b[0m\n\u001b[1;32m     19\u001b[0m \u001b[0;34m\u001b[0m\u001b[0m\n\u001b[0;32m---> 20\u001b[0;31m \u001b[0;32mimport\u001b[0m \u001b[0mtqdm\u001b[0m\u001b[0;34m\u001b[0m\u001b[0;34m\u001b[0m\u001b[0m\n\u001b[0m\u001b[1;32m     21\u001b[0m \u001b[0mget_ipython\u001b[0m\u001b[0;34m(\u001b[0m\u001b[0;34m)\u001b[0m\u001b[0;34m.\u001b[0m\u001b[0mrun_line_magic\u001b[0m\u001b[0;34m(\u001b[0m\u001b[0;34m'matplotlib'\u001b[0m\u001b[0;34m,\u001b[0m \u001b[0;34m'inline'\u001b[0m\u001b[0;34m)\u001b[0m\u001b[0;34m\u001b[0m\u001b[0;34m\u001b[0m\u001b[0m\n\u001b[1;32m     22\u001b[0m \u001b[0mget_ipython\u001b[0m\u001b[0;34m(\u001b[0m\u001b[0;34m)\u001b[0m\u001b[0;34m.\u001b[0m\u001b[0mrun_line_magic\u001b[0m\u001b[0;34m(\u001b[0m\u001b[0;34m'config'\u001b[0m\u001b[0;34m,\u001b[0m \u001b[0;34m\"InlineBackend.figure_format = 'retina'\"\u001b[0m\u001b[0;34m)\u001b[0m\u001b[0;34m\u001b[0m\u001b[0;34m\u001b[0m\u001b[0m\n",
      "\u001b[0;31mModuleNotFoundError\u001b[0m: No module named 'tqdm'"
     ]
    }
   ],
   "source": [
    "import numpy as np\n",
    "import matplotlib.pyplot as plt\n",
    "from hera_cal import frf\n",
    "import glob\n",
    "import os\n",
    "from copy import deepcopy\n",
    "from hera_cal import redcal\n",
    "from IPython.display import display, HTML\n",
    "from hera_cal.io import HERAData\n",
    "from matplotlib.colors import LogNorm\n",
    "from hera_pspec import utils\n",
    "%config Completer.use_jedi = False\n",
    "from scipy.interpolate import interp1d\n",
    "from hera_pspec.container import PSpecContainer\n",
    "import hera_pspec.plot as pspecplot\n",
    "import copy\n",
    "from matplotlib import cm as cmaps\n",
    "from hera_pspec import grouping\n",
    "\n",
    "import tqdm\n",
    "%matplotlib inline\n",
    "%config InlineBackend.figure_format = 'retina'\n",
    "display(HTML(\"<style>.container { width:100% !important; }</style>\"))"
   ]
  },
  {
   "cell_type": "code",
   "execution_count": 2,
   "id": "according-sullivan",
   "metadata": {
    "ExecuteTime": {
     "end_time": "2021-05-02T21:32:49.683857Z",
     "start_time": "2021-05-02T21:32:49.565656Z"
    },
    "execution": {
     "iopub.execute_input": "2021-05-07T16:41:05.800570Z",
     "iopub.status.busy": "2021-05-07T16:41:05.799074Z",
     "iopub.status.idle": "2021-05-07T16:41:05.816824Z",
     "shell.execute_reply": "2021-05-07T16:41:05.817808Z"
    }
   },
   "outputs": [
    {
     "ename": "TypeError",
     "evalue": "tuple expected at most 1 arguments, got 2",
     "output_type": "error",
     "traceback": [
      "\u001b[0;31m---------------------------------------------------------------------------\u001b[0m",
      "\u001b[0;31mTypeError\u001b[0m                                 Traceback (most recent call last)",
      "\u001b[0;32m<ipython-input-1-1f0c74b5fba9>\u001b[0m in \u001b[0;36m<module>\u001b[0;34m\u001b[0m\n\u001b[1;32m      7\u001b[0m \u001b[0;32mfor\u001b[0m \u001b[0mm\u001b[0m \u001b[0;32min\u001b[0m \u001b[0mrange\u001b[0m\u001b[0;34m(\u001b[0m\u001b[0mlen\u001b[0m\u001b[0;34m(\u001b[0m\u001b[0mlst_fields\u001b[0m\u001b[0;34m)\u001b[0m\u001b[0;34m)\u001b[0m\u001b[0;34m:\u001b[0m\u001b[0;34m\u001b[0m\u001b[0;34m\u001b[0m\u001b[0m\n\u001b[1;32m      8\u001b[0m     \u001b[0mfield\u001b[0m \u001b[0;34m=\u001b[0m \u001b[0mlst_fields\u001b[0m\u001b[0;34m[\u001b[0m\u001b[0mm\u001b[0m\u001b[0;34m]\u001b[0m\u001b[0;34m.\u001b[0m\u001b[0msplit\u001b[0m\u001b[0;34m(\u001b[0m\u001b[0;34m'~'\u001b[0m\u001b[0;34m)\u001b[0m\u001b[0;34m\u001b[0m\u001b[0;34m\u001b[0m\u001b[0m\n\u001b[0;32m----> 9\u001b[0;31m     \u001b[0mlst_feilds\u001b[0m\u001b[0;34m[\u001b[0m\u001b[0mm\u001b[0m\u001b[0;34m]\u001b[0m \u001b[0;34m=\u001b[0m \u001b[0mtuple\u001b[0m\u001b[0;34m(\u001b[0m\u001b[0mfloat\u001b[0m\u001b[0;34m(\u001b[0m\u001b[0mfield\u001b[0m\u001b[0;34m[\u001b[0m\u001b[0;36m0\u001b[0m\u001b[0;34m]\u001b[0m\u001b[0;34m)\u001b[0m\u001b[0;34m,\u001b[0m \u001b[0mfield\u001b[0m\u001b[0;34m[\u001b[0m\u001b[0;36m1\u001b[0m\u001b[0;34m]\u001b[0m\u001b[0;34m)\u001b[0m\u001b[0;34m\u001b[0m\u001b[0;34m\u001b[0m\u001b[0m\n\u001b[0m\u001b[1;32m     10\u001b[0m \u001b[0mgrp_skip\u001b[0m \u001b[0;34m=\u001b[0m \u001b[0mos\u001b[0m\u001b[0;34m.\u001b[0m\u001b[0menviron\u001b[0m\u001b[0;34m[\u001b[0m\u001b[0;34m'GRP_SKIP'\u001b[0m\u001b[0;34m]\u001b[0m\u001b[0;34m\u001b[0m\u001b[0;34m\u001b[0m\u001b[0m\n\u001b[1;32m     11\u001b[0m \u001b[0mblp_skip\u001b[0m \u001b[0;34m=\u001b[0m \u001b[0mos\u001b[0m\u001b[0;34m.\u001b[0m\u001b[0menviron\u001b[0m\u001b[0;34m[\u001b[0m\u001b[0;34m'BLP_SKIP'\u001b[0m\u001b[0;34m]\u001b[0m\u001b[0;34m\u001b[0m\u001b[0;34m\u001b[0m\u001b[0m\n",
      "\u001b[0;31mTypeError\u001b[0m: tuple expected at most 1 arguments, got 2"
     ]
    }
   ],
   "source": [
    "# Use environment variables to figure out path to data\n",
    "JD = os.environ['JULIANDATE']\n",
    "data_path = os.environ['DATA_PATH']\n",
    "label = os.environ['LABEL']\n",
    "spws = os.environ['SPWS'].split(',')\n",
    "lst_fields = os.environ['LST_FIELDS'].split(',')\n",
    "for m in range(len(lst_fields)):\n",
    "    field = lst_fields[m].split('~')\n",
    "    lst_feilds[m] = tuple(float(field[0]), field[1])\n",
    "grp_skip = os.environ['GRP_SKIP']\n",
    "blp_skip = os.environ['BLP_SKIP']\n",
    "field_labels = os.environ['FIELD_LABELS'].split(',')\n",
    "max_plots_per_row = os.environ['MAX_PLOTS_PER_ROW']\n",
    "\n",
    "print(f'JD = \"{JD}\"')\n",
    "print(f'data_path = \"{data_path}\"')"
   ]
  },
  {
   "cell_type": "code",
   "execution_count": 3,
   "id": "explicit-nickname",
   "metadata": {
    "ExecuteTime": {
     "end_time": "2021-05-03T00:57:55.728389Z",
     "start_time": "2021-05-03T00:57:55.722138Z"
    },
    "execution": {
     "iopub.execute_input": "2021-05-07T16:41:05.821916Z",
     "iopub.status.busy": "2021-05-07T16:41:05.820620Z",
     "iopub.status.idle": "2021-05-07T16:41:05.827173Z",
     "shell.execute_reply": "2021-05-07T16:41:05.828075Z"
    }
   },
   "outputs": [],
   "source": [
    "JD = 2459132\n",
    "data_path = f'/lustre/aoc/projects/hera/H4C/postprocessing/{JD}'\n",
    "label = 'low-band-allbls'\n",
    "spws = [0, 1]\n",
    "lst_fields = [(1, 3), (4.2, 6.2)]\n",
    "field_labels = [\"1\", \"2\"]\n",
    "grp_skip = 10\n",
    "blp_skip = 2\n",
    "max_plots_per_row = 10\n"
   ]
  },
  {
   "cell_type": "code",
   "execution_count": 4,
   "id": "necessary-tunnel",
   "metadata": {
    "ExecuteTime": {
     "end_time": "2021-05-01T20:04:32.346280Z",
     "start_time": "2021-05-01T20:04:32.313539Z"
    },
    "execution": {
     "iopub.execute_input": "2021-05-07T16:41:05.832048Z",
     "iopub.status.busy": "2021-05-07T16:41:05.830760Z",
     "iopub.status.idle": "2021-05-07T16:41:05.839096Z",
     "shell.execute_reply": "2021-05-07T16:41:05.839992Z"
    }
   },
   "outputs": [
    {
     "name": "stdout",
     "output_type": "stream",
     "text": [
      "Date: 10-9-2020\n"
     ]
    }
   ],
   "source": [
    "from astropy.time import Time\n",
    "utc = Time(JD, format='jd').datetime\n",
    "print(f'Date: {utc.month}-{utc.day}-{utc.year}')"
   ]
  },
  {
   "cell_type": "code",
   "execution_count": 5,
   "id": "neutral-overall",
   "metadata": {
    "ExecuteTime": {
     "end_time": "2021-05-01T20:04:32.493796Z",
     "start_time": "2021-05-01T20:04:32.351853Z"
    },
    "execution": {
     "iopub.execute_input": "2021-05-07T16:41:05.844097Z",
     "iopub.status.busy": "2021-05-07T16:41:05.842790Z",
     "iopub.status.idle": "2021-05-07T16:41:05.996022Z",
     "shell.execute_reply": "2021-05-07T16:41:05.996596Z"
    }
   },
   "outputs": [
    {
     "name": "stdout",
     "output_type": "stream",
     "text": [
      "Looking for sum power-spectrum containers in /lustre/aoc/projects/hera/H4C/postprocessing/2459132 on JD 2459132\n",
      "Found 121 files.\n",
      "Looking for diff power-spectrum containers in /lustre/aoc/projects/hera/H4C/postprocessing/2459132 on JD 2459132\n",
      "Found 121 files.\n"
     ]
    }
   ],
   "source": [
    "print('Looking for sum power-spectrum containers in', data_path, 'on JD', JD)\n",
    "psc_files_sum = sorted(glob.glob(os.path.join(data_path, f'zen.{JD}.?????.sum.{label}.xtalk_filtered.tavg.pspec.h5')))\n",
    "psc_files_sum_pstokes = sorted(glob.glob(os.path.join(data_path, f'zen.{JD}.?????.sum.{label}.xtalk_filtered_pstokes.tavg.pspec.h5')))\n",
    "print('Found {} files.'.format(len(psc_files_sum)))\n",
    "print('Looking for diff power-spectrum containers in', data_path, 'on JD', JD)\n",
    "psc_files_diff= sorted(glob.glob(os.path.join(data_path, f'zen.{JD}.?????.diff.{label}.xtalk_filtered.tavg.pspec.h5')))\n",
    "psc_files_diff_pstokes= sorted(glob.glob(os.path.join(data_path, f'zen.{JD}.?????.diff.{label}.xtalk_filtered_pstokes.tavg.pspec.h5')))\n",
    "\n",
    "print('Found {} files.'.format(len(psc_files_diff)))"
   ]
  },
  {
   "cell_type": "code",
   "execution_count": 6,
   "id": "aboriginal-advocate",
   "metadata": {
    "ExecuteTime": {
     "end_time": "2021-05-01T20:04:32.610975Z",
     "start_time": "2021-05-01T20:04:32.498437Z"
    },
    "execution": {
     "iopub.execute_input": "2021-05-07T16:41:05.999193Z",
     "iopub.status.busy": "2021-05-07T16:41:05.998372Z",
     "iopub.status.idle": "2021-05-07T16:41:06.129717Z",
     "shell.execute_reply": "2021-05-07T16:41:06.130278Z"
    }
   },
   "outputs": [
    {
     "name": "stdout",
     "output_type": "stream",
     "text": [
      "Looking for sum power-spectrum containers in /lustre/aoc/projects/hera/H4C/postprocessing/2459132 on JD 2459132\n",
      "Found 121 files.\n",
      "Looking for diff power-spectrum containers in /lustre/aoc/projects/hera/H4C/postprocessing/2459132 on JD 2459132\n",
      "Found 121 files.\n"
     ]
    }
   ],
   "source": [
    "print('Looking for sum power-spectrum containers in', data_path, 'on JD', JD)\n",
    "psca_files_sum = sorted(glob.glob(os.path.join(data_path, f'zen.{JD}.?????.sum.{label}.autos.foreground_filled.tavg.pspec.h5')))\n",
    "psca_files_sum_pstokes = sorted(glob.glob(os.path.join(data_path, f'zen.{JD}.?????.sum.{label}.autos.foreground_filled_pstokes.tavg.pspec.h5')))\n",
    "print('Found {} files.'.format(len(psc_files_sum)))\n",
    "print('Looking for diff power-spectrum containers in', data_path, 'on JD', JD)\n",
    "psca_files_diff= sorted(glob.glob(os.path.join(data_path, f'zen.{JD}.?????.diff.{label}.autos.foreground_filled.tavg.pspec.h5')))\n",
    "psca_files_diff_pstokes = sorted(glob.glob(os.path.join(data_path, f'zen.{JD}.?????.diff.{label}.autos.foreground_filled_pstokes.tavg.pspec.h5')))\n",
    "print('Found {} files.'.format(len(psc_files_diff)))\n"
   ]
  },
  {
   "cell_type": "code",
   "execution_count": 7,
   "id": "bound-translator",
   "metadata": {
    "ExecuteTime": {
     "end_time": "2021-05-01T20:05:04.986387Z",
     "start_time": "2021-05-01T20:04:32.622965Z"
    },
    "execution": {
     "iopub.execute_input": "2021-05-07T16:41:06.133073Z",
     "iopub.status.busy": "2021-05-07T16:41:06.132212Z",
     "iopub.status.idle": "2021-05-07T16:41:06.146493Z",
     "shell.execute_reply": "2021-05-07T16:41:06.147091Z"
    }
   },
   "outputs": [
    {
     "ename": "NameError",
     "evalue": "name 'tqdm' is not defined",
     "output_type": "error",
     "traceback": [
      "\u001b[0;31m---------------------------------------------------------------------------\u001b[0m",
      "\u001b[0;31mNameError\u001b[0m                                 Traceback (most recent call last)",
      "\u001b[0;32m<ipython-input-1-3f501e80f88b>\u001b[0m in \u001b[0;36m<module>\u001b[0;34m\u001b[0m\n\u001b[1;32m      5\u001b[0m \u001b[0;34m\u001b[0m\u001b[0m\n\u001b[1;32m      6\u001b[0m \u001b[0munum\u001b[0m \u001b[0;34m=\u001b[0m \u001b[0;36m0\u001b[0m\u001b[0;34m\u001b[0m\u001b[0;34m\u001b[0m\u001b[0m\n\u001b[0;32m----> 7\u001b[0;31m \u001b[0;32mfor\u001b[0m \u001b[0mpscf\u001b[0m \u001b[0;32min\u001b[0m \u001b[0mtqdm\u001b[0m\u001b[0;34m.\u001b[0m\u001b[0mtqdm\u001b[0m\u001b[0;34m(\u001b[0m\u001b[0mpsc_files_sum\u001b[0m\u001b[0;34m)\u001b[0m\u001b[0;34m:\u001b[0m\u001b[0;34m\u001b[0m\u001b[0;34m\u001b[0m\u001b[0m\n\u001b[0m\u001b[1;32m      8\u001b[0m     \u001b[0mpscd\u001b[0m \u001b[0;34m=\u001b[0m \u001b[0mPSpecContainer\u001b[0m\u001b[0;34m(\u001b[0m\u001b[0mpsc_files_diff\u001b[0m\u001b[0;34m[\u001b[0m\u001b[0munum\u001b[0m\u001b[0;34m]\u001b[0m\u001b[0;34m,\u001b[0m \u001b[0mkeep_open\u001b[0m\u001b[0;34m=\u001b[0m\u001b[0;32mFalse\u001b[0m\u001b[0;34m)\u001b[0m\u001b[0;34m\u001b[0m\u001b[0;34m\u001b[0m\u001b[0m\n\u001b[1;32m      9\u001b[0m     \u001b[0mpsc\u001b[0m \u001b[0;34m=\u001b[0m \u001b[0mPSpecContainer\u001b[0m\u001b[0;34m(\u001b[0m\u001b[0mpscf\u001b[0m\u001b[0;34m,\u001b[0m \u001b[0mkeep_open\u001b[0m\u001b[0;34m=\u001b[0m\u001b[0;32mFalse\u001b[0m\u001b[0;34m)\u001b[0m\u001b[0;34m\u001b[0m\u001b[0;34m\u001b[0m\u001b[0m\n",
      "\u001b[0;31mNameError\u001b[0m: name 'tqdm' is not defined"
     ]
    }
   ],
   "source": [
    "uvp_list = []\n",
    "uvpd_list = []\n",
    "uvpa_list = []\n",
    "uvpda_list = []\n",
    "\n",
    "unum = 0\n",
    "for pscf in tqdm.tqdm(psc_files_sum):\n",
    "    pscd = PSpecContainer(psc_files_diff[unum], keep_open=False)\n",
    "    psc = PSpecContainer(pscf, keep_open=False)\n",
    "    uvpt = psc.get_pspec(group='dset0', psname='dset0_x_dset0')\n",
    "    uvptd = pscd.get_pspec(group='dset0', psname='dset0_x_dset0')\n",
    "    \n",
    "    # add the pstokes from separate file\n",
    "    pscd = PSpecContainer(psc_files_diff_pstokes[unum], keep_open=False)\n",
    "    psc = PSpecContainer(psc_files_sum_pstokes[unum], keep_open=False)\n",
    "    uvpt += psc.get_pspec(group='dset0', psname='dset0_x_dset0')\n",
    "    uvptd += pscd.get_pspec(group='dset0', psname='dset0_x_dset0')\n",
    "    \n",
    "    \n",
    "    uvp_list.append(uvpt)\n",
    "    uvpd_list.append(uvptd)\n",
    "        \n",
    "    pscd = PSpecContainer(psca_files_diff[unum], keep_open=False)\n",
    "    psc = PSpecContainer(psca_files_sum[unum], keep_open=False)\n",
    "    uvpt = psc.get_pspec(group='dset0', psname='dset0_x_dset0')\n",
    "    uvptd = pscd.get_pspec(group='dset0', psname='dset0_x_dset0')\n",
    "    \n",
    "    # add the pstokes from separate file\n",
    "    pscd = PSpecContainer(psca_files_diff_pstokes[unum], keep_open=False)\n",
    "    psc = PSpecContainer(psca_files_sum_pstokes[unum], keep_open=False)\n",
    "    uvpt += psc.get_pspec(group='dset0', psname='dset0_x_dset0')\n",
    "    uvptd += pscd.get_pspec(group='dset0', psname='dset0_x_dset0')\n",
    "    \n",
    "    uvpa_list.append(uvpt)\n",
    "    uvpda_list.append(uvptd)\n",
    "    unum += 1"
   ]
  },
  {
   "cell_type": "code",
   "execution_count": 8,
   "id": "tutorial-bride",
   "metadata": {
    "ExecuteTime": {
     "end_time": "2021-05-01T20:12:23.827399Z",
     "start_time": "2021-05-01T20:11:59.199084Z"
    },
    "code_folding": [],
    "execution": {
     "iopub.execute_input": "2021-05-07T16:41:06.149667Z",
     "iopub.status.busy": "2021-05-07T16:41:06.148812Z",
     "iopub.status.idle": "2021-05-07T16:41:06.164647Z",
     "shell.execute_reply": "2021-05-07T16:41:06.165244Z"
    }
   },
   "outputs": [
    {
     "ename": "IndexError",
     "evalue": "list index out of range",
     "output_type": "error",
     "traceback": [
      "\u001b[0;31m---------------------------------------------------------------------------\u001b[0m",
      "\u001b[0;31mIndexError\u001b[0m                                Traceback (most recent call last)",
      "\u001b[0;32m<ipython-input-1-8574407a8fa0>\u001b[0m in \u001b[0;36m<module>\u001b[0;34m\u001b[0m\n\u001b[1;32m     31\u001b[0m \u001b[0;34m\u001b[0m\u001b[0m\n\u001b[1;32m     32\u001b[0m \u001b[0;34m\u001b[0m\u001b[0m\n\u001b[0;32m---> 33\u001b[0;31m \u001b[0muvp_list\u001b[0m \u001b[0;34m=\u001b[0m \u001b[0mdiscard_flagged_times\u001b[0m\u001b[0;34m(\u001b[0m\u001b[0mdiscard_flagged_blpairs\u001b[0m\u001b[0;34m(\u001b[0m\u001b[0muvp_list\u001b[0m\u001b[0;34m)\u001b[0m\u001b[0;34m)\u001b[0m\u001b[0;34m\u001b[0m\u001b[0;34m\u001b[0m\u001b[0m\n\u001b[0m\u001b[1;32m     34\u001b[0m \u001b[0muvpd_list\u001b[0m \u001b[0;34m=\u001b[0m \u001b[0mdiscard_flagged_times\u001b[0m\u001b[0;34m(\u001b[0m\u001b[0mdiscard_flagged_blpairs\u001b[0m\u001b[0;34m(\u001b[0m\u001b[0muvpd_list\u001b[0m\u001b[0;34m)\u001b[0m\u001b[0;34m)\u001b[0m\u001b[0;34m\u001b[0m\u001b[0;34m\u001b[0m\u001b[0m\n\u001b[1;32m     35\u001b[0m \u001b[0;34m\u001b[0m\u001b[0m\n",
      "\u001b[0;32m<ipython-input-1-8574407a8fa0>\u001b[0m in \u001b[0;36mdiscard_flagged_blpairs\u001b[0;34m(uvpt_list)\u001b[0m\n\u001b[1;32m      2\u001b[0m     \u001b[0;31m# only keep baselines if they have some unflagged data in one of the files\u001b[0m\u001b[0;34m\u001b[0m\u001b[0;34m\u001b[0m\u001b[0;34m\u001b[0m\u001b[0m\n\u001b[1;32m      3\u001b[0m     \u001b[0mbls_to_keep\u001b[0m \u001b[0;34m=\u001b[0m \u001b[0;34m[\u001b[0m\u001b[0;34m]\u001b[0m\u001b[0;34m\u001b[0m\u001b[0;34m\u001b[0m\u001b[0m\n\u001b[0;32m----> 4\u001b[0;31m     \u001b[0;32mfor\u001b[0m \u001b[0mblp\u001b[0m \u001b[0;32min\u001b[0m \u001b[0muvpt_list\u001b[0m\u001b[0;34m[\u001b[0m\u001b[0;36m0\u001b[0m\u001b[0;34m]\u001b[0m\u001b[0;34m.\u001b[0m\u001b[0mget_blpairs\u001b[0m\u001b[0;34m(\u001b[0m\u001b[0;34m)\u001b[0m\u001b[0;34m:\u001b[0m\u001b[0;34m\u001b[0m\u001b[0;34m\u001b[0m\u001b[0m\n\u001b[0m\u001b[1;32m      5\u001b[0m         \u001b[0mintegrations\u001b[0m \u001b[0;34m=\u001b[0m \u001b[0;34m[\u001b[0m\u001b[0;34m]\u001b[0m\u001b[0;34m\u001b[0m\u001b[0;34m\u001b[0m\u001b[0m\n\u001b[1;32m      6\u001b[0m         \u001b[0;32mfor\u001b[0m \u001b[0muvpt\u001b[0m \u001b[0;32min\u001b[0m \u001b[0muvpt_list\u001b[0m\u001b[0;34m:\u001b[0m\u001b[0;34m\u001b[0m\u001b[0;34m\u001b[0m\u001b[0m\n",
      "\u001b[0;31mIndexError\u001b[0m: list index out of range"
     ]
    }
   ],
   "source": [
    "def discard_flagged_blpairs(uvpt_list):\n",
    "    # only keep baselines if they have some unflagged data in one of the files\n",
    "    bls_to_keep = []\n",
    "    for blp in uvpt_list[0].get_blpairs():\n",
    "        integrations = []\n",
    "        for uvpt in uvpt_list:\n",
    "            blpslice = uvpt.blpair_to_indices(blp)\n",
    "            integrations.append(uvpt.integration_array[0][blpslice, 0])\n",
    "        if not np.allclose(integrations, 0.0):\n",
    "            bls_to_keep.append(blp)\n",
    "        else:\n",
    "            print(f'{blp} has no integrations! Discarding...')\n",
    "    return [uvpt.select(blpairs=bls_to_keep, inplace=False) for uvpt in uvpt_list]\n",
    "    \n",
    "\n",
    "def discard_flagged_times(uvpt_list):\n",
    "    files_to_keep = []\n",
    "    for findex,uvpt in enumerate(uvpt_list):\n",
    "        if not np.any(np.isclose(uvpt.integration_array[0][:, 0], 0.0)):\n",
    "            finite_stat = True\n",
    "            if hasattr(uvpt, 'stats_array'):\n",
    "                for stat in uvpt.stats_array:\n",
    "                    for spw in uvpt.spw_array:\n",
    "                        finite_stat = finite_stat and np.all(np.isfinite(uvpt.stats_array[stat][spw]))\n",
    "            else:\n",
    "                for spw in uvpt.data_array:\n",
    "                    finite_stat = finite_stat and np.all(np.isfinite(uvpt.data_array[spw]))\n",
    "            if finite_stat:\n",
    "                files_to_keep.append(findex)\n",
    "    return [uvpt_list[i] for i in files_to_keep]\n",
    "\n",
    "\n",
    "uvp_list = discard_flagged_times(discard_flagged_blpairs(uvp_list))\n",
    "uvpd_list = discard_flagged_times(discard_flagged_blpairs(uvpd_list))\n",
    "\n",
    "\n",
    "uvpa_list = discard_flagged_times(discard_flagged_blpairs(uvpa_list))\n",
    "uvpda_list = discard_flagged_times(discard_flagged_blpairs(uvpda_list))"
   ]
  },
  {
   "cell_type": "code",
   "execution_count": 9,
   "id": "piano-mexico",
   "metadata": {
    "ExecuteTime": {
     "start_time": "2021-05-01T21:31:44.362Z"
    },
    "code_folding": [],
    "execution": {
     "iopub.execute_input": "2021-05-07T16:41:06.167845Z",
     "iopub.status.busy": "2021-05-07T16:41:06.167026Z",
     "iopub.status.idle": "2021-05-07T16:41:06.171410Z",
     "shell.execute_reply": "2021-05-07T16:41:06.171965Z"
    }
   },
   "outputs": [],
   "source": [
    "for listnum, uvplist_t in enumerate([uvp_list, uvpd_list, uvpa_list, uvpda_list]):\n",
    "    for uvpt in uvplist_t:\n",
    "        for spw in uvpt.spw_array:\n",
    "            assert np.all(np.isfinite(uvpt.data_array[spw]))\n",
    "            for stat in uvpt.stats_array:\n",
    "                assert np.all(np.isfinite(uvpt.stats_array[stat][spw]))"
   ]
  },
  {
   "cell_type": "code",
   "execution_count": 10,
   "id": "useful-disposition",
   "metadata": {
    "ExecuteTime": {
     "end_time": "2021-05-02T03:43:30.014026Z",
     "start_time": "2021-05-02T03:32:41.133114Z"
    },
    "code_folding": [],
    "execution": {
     "iopub.execute_input": "2021-05-07T16:41:06.174556Z",
     "iopub.status.busy": "2021-05-07T16:41:06.173683Z",
     "iopub.status.idle": "2021-05-07T16:41:06.184690Z",
     "shell.execute_reply": "2021-05-07T16:41:06.185280Z"
    }
   },
   "outputs": [
    {
     "ename": "NameError",
     "evalue": "name 'tqdm' is not defined",
     "output_type": "error",
     "traceback": [
      "\u001b[0;31m---------------------------------------------------------------------------\u001b[0m",
      "\u001b[0;31mNameError\u001b[0m                                 Traceback (most recent call last)",
      "\u001b[0;32m<ipython-input-1-a54a31e83213>\u001b[0m in \u001b[0;36m<module>\u001b[0;34m\u001b[0m\n\u001b[1;32m      4\u001b[0m for uvplist_t, uvpnewlist_t in zip([uvp_list, uvpd_list], \n\u001b[1;32m      5\u001b[0m                                    [uvp_avg_list, uvpd_avg_list]):\n\u001b[0;32m----> 6\u001b[0;31m     \u001b[0;32mfor\u001b[0m \u001b[0muvpt\u001b[0m \u001b[0;32min\u001b[0m \u001b[0mtqdm\u001b[0m\u001b[0;34m.\u001b[0m\u001b[0mtqdm\u001b[0m\u001b[0;34m(\u001b[0m\u001b[0muvplist_t\u001b[0m\u001b[0;34m)\u001b[0m\u001b[0;34m:\u001b[0m\u001b[0;34m\u001b[0m\u001b[0;34m\u001b[0m\u001b[0m\n\u001b[0m\u001b[1;32m      7\u001b[0m         \u001b[0mblp_groups\u001b[0m\u001b[0;34m,\u001b[0m \u001b[0m_\u001b[0m\u001b[0;34m,\u001b[0m \u001b[0m_\u001b[0m\u001b[0;34m,\u001b[0m \u001b[0m_\u001b[0m \u001b[0;34m=\u001b[0m \u001b[0mutils\u001b[0m\u001b[0;34m.\u001b[0m\u001b[0mget_blvec_reds\u001b[0m\u001b[0;34m(\u001b[0m\u001b[0muvpt\u001b[0m\u001b[0;34m,\u001b[0m \u001b[0mbl_error_tol\u001b[0m\u001b[0;34m=\u001b[0m\u001b[0;36m1.0\u001b[0m\u001b[0;34m)\u001b[0m\u001b[0;34m\u001b[0m\u001b[0;34m\u001b[0m\u001b[0m\n\u001b[1;32m      8\u001b[0m         \u001b[0;31m# exclude auto baselines. We can do a comparison between including autos and not including autos.\u001b[0m\u001b[0;34m\u001b[0m\u001b[0;34m\u001b[0m\u001b[0;34m\u001b[0m\u001b[0m\n",
      "\u001b[0;31mNameError\u001b[0m: name 'tqdm' is not defined"
     ]
    }
   ],
   "source": [
    "uvp_avg_list = []\n",
    "uvpd_avg_list = []\n",
    "\n",
    "for uvplist_t, uvpnewlist_t in zip([uvp_list, uvpd_list], \n",
    "                                   [uvp_avg_list, uvpd_avg_list]):\n",
    "    for uvpt in tqdm.tqdm(uvplist_t):\n",
    "        blp_groups, _, _, _ = utils.get_blvec_reds(uvpt, bl_error_tol=1.0)\n",
    "        # exclude auto baselines. We can do a comparison between including autos and not including autos.\n",
    "        # later.\n",
    "        blp_groups = [[blp for blp in blpgrp if blp[0] != blp[1]] for blpgrp in blp_groups]\n",
    "        uvpnewlist_t.append(uvpt.average_spectra(blpair_groups=blp_groups, inplace=False, error_weights='P_N',\n",
    "                                                  error_field=[stat for stat in uvpt.stats_array]))"
   ]
  },
  {
   "cell_type": "code",
   "execution_count": 11,
   "id": "anonymous-quick",
   "metadata": {
    "ExecuteTime": {
     "end_time": "2021-05-02T20:50:18.054944Z",
     "start_time": "2021-05-02T20:38:35.333393Z"
    },
    "code_folding": [],
    "execution": {
     "iopub.execute_input": "2021-05-07T16:41:06.188002Z",
     "iopub.status.busy": "2021-05-07T16:41:06.187041Z",
     "iopub.status.idle": "2021-05-07T16:41:12.579249Z",
     "shell.execute_reply": "2021-05-07T16:41:12.579950Z"
    }
   },
   "outputs": [
    {
     "ename": "RecursionError",
     "evalue": "maximum recursion depth exceeded while calling a Python object",
     "output_type": "error",
     "traceback": [
      "\u001b[0;31m---------------------------------------------------------------------------\u001b[0m",
      "\u001b[0;31mRecursionError\u001b[0m                            Traceback (most recent call last)",
      "\u001b[0;32m<ipython-input-1-5c506734827a>\u001b[0m in \u001b[0;36m<module>\u001b[0;34m\u001b[0m\n\u001b[1;32m      9\u001b[0m \u001b[0;34m\u001b[0m\u001b[0m\n\u001b[1;32m     10\u001b[0m \u001b[0;34m\u001b[0m\u001b[0m\n\u001b[0;32m---> 11\u001b[0;31m \u001b[0muvp_avg\u001b[0m \u001b[0;34m=\u001b[0m \u001b[0mmerge_ps_list\u001b[0m\u001b[0;34m(\u001b[0m\u001b[0muvp_avg_list\u001b[0m\u001b[0;34m)\u001b[0m\u001b[0;34m\u001b[0m\u001b[0;34m\u001b[0m\u001b[0m\n\u001b[0m\u001b[1;32m     12\u001b[0m \u001b[0muvpd_avg\u001b[0m \u001b[0;34m=\u001b[0m \u001b[0mmerge_ps_list\u001b[0m\u001b[0;34m(\u001b[0m\u001b[0muvpd_avg_list\u001b[0m\u001b[0;34m)\u001b[0m\u001b[0;34m\u001b[0m\u001b[0;34m\u001b[0m\u001b[0m\n\u001b[1;32m     13\u001b[0m \u001b[0muvpa_avg\u001b[0m \u001b[0;34m=\u001b[0m \u001b[0mmerge_ps_list\u001b[0m\u001b[0;34m(\u001b[0m\u001b[0muvpa_list\u001b[0m\u001b[0;34m)\u001b[0m\u001b[0;34m\u001b[0m\u001b[0;34m\u001b[0m\u001b[0m\n",
      "\u001b[0;32m<ipython-input-1-5c506734827a>\u001b[0m in \u001b[0;36mmerge_ps_list\u001b[0;34m(ps_list)\u001b[0m\n\u001b[1;32m      5\u001b[0m         \u001b[0;32mreturn\u001b[0m \u001b[0mps_list\u001b[0m\u001b[0;34m[\u001b[0m\u001b[0;36m0\u001b[0m\u001b[0;34m]\u001b[0m\u001b[0;34m\u001b[0m\u001b[0;34m\u001b[0m\u001b[0m\n\u001b[1;32m      6\u001b[0m     \u001b[0;32melse\u001b[0m\u001b[0;34m:\u001b[0m\u001b[0;34m\u001b[0m\u001b[0;34m\u001b[0m\u001b[0m\n\u001b[0;32m----> 7\u001b[0;31m         \u001b[0;32mreturn\u001b[0m \u001b[0mmerge_ps_list\u001b[0m\u001b[0;34m(\u001b[0m\u001b[0mps_list\u001b[0m\u001b[0;34m[\u001b[0m\u001b[0;34m:\u001b[0m\u001b[0mlen\u001b[0m\u001b[0;34m(\u001b[0m\u001b[0mps_list\u001b[0m\u001b[0;34m)\u001b[0m\u001b[0;34m//\u001b[0m\u001b[0;36m2\u001b[0m\u001b[0;34m]\u001b[0m\u001b[0;34m)\u001b[0m\u001b[0;31m\\\u001b[0m\u001b[0;34m\u001b[0m\u001b[0;34m\u001b[0m\u001b[0m\n\u001b[0m\u001b[1;32m      8\u001b[0m         \u001b[0;34m+\u001b[0m \u001b[0mmerge_ps_list\u001b[0m\u001b[0;34m(\u001b[0m\u001b[0mps_list\u001b[0m\u001b[0;34m[\u001b[0m\u001b[0mlen\u001b[0m\u001b[0;34m(\u001b[0m\u001b[0mps_list\u001b[0m\u001b[0;34m)\u001b[0m\u001b[0;34m//\u001b[0m\u001b[0;36m2\u001b[0m\u001b[0;34m:\u001b[0m\u001b[0;34m]\u001b[0m\u001b[0;34m)\u001b[0m\u001b[0;34m\u001b[0m\u001b[0;34m\u001b[0m\u001b[0m\n\u001b[1;32m      9\u001b[0m \u001b[0;34m\u001b[0m\u001b[0m\n",
      "... last 1 frames repeated, from the frame below ...\n",
      "\u001b[0;32m<ipython-input-1-5c506734827a>\u001b[0m in \u001b[0;36mmerge_ps_list\u001b[0;34m(ps_list)\u001b[0m\n\u001b[1;32m      5\u001b[0m         \u001b[0;32mreturn\u001b[0m \u001b[0mps_list\u001b[0m\u001b[0;34m[\u001b[0m\u001b[0;36m0\u001b[0m\u001b[0;34m]\u001b[0m\u001b[0;34m\u001b[0m\u001b[0;34m\u001b[0m\u001b[0m\n\u001b[1;32m      6\u001b[0m     \u001b[0;32melse\u001b[0m\u001b[0;34m:\u001b[0m\u001b[0;34m\u001b[0m\u001b[0;34m\u001b[0m\u001b[0m\n\u001b[0;32m----> 7\u001b[0;31m         \u001b[0;32mreturn\u001b[0m \u001b[0mmerge_ps_list\u001b[0m\u001b[0;34m(\u001b[0m\u001b[0mps_list\u001b[0m\u001b[0;34m[\u001b[0m\u001b[0;34m:\u001b[0m\u001b[0mlen\u001b[0m\u001b[0;34m(\u001b[0m\u001b[0mps_list\u001b[0m\u001b[0;34m)\u001b[0m\u001b[0;34m//\u001b[0m\u001b[0;36m2\u001b[0m\u001b[0;34m]\u001b[0m\u001b[0;34m)\u001b[0m\u001b[0;31m\\\u001b[0m\u001b[0;34m\u001b[0m\u001b[0;34m\u001b[0m\u001b[0m\n\u001b[0m\u001b[1;32m      8\u001b[0m         \u001b[0;34m+\u001b[0m \u001b[0mmerge_ps_list\u001b[0m\u001b[0;34m(\u001b[0m\u001b[0mps_list\u001b[0m\u001b[0;34m[\u001b[0m\u001b[0mlen\u001b[0m\u001b[0;34m(\u001b[0m\u001b[0mps_list\u001b[0m\u001b[0;34m)\u001b[0m\u001b[0;34m//\u001b[0m\u001b[0;36m2\u001b[0m\u001b[0;34m:\u001b[0m\u001b[0;34m]\u001b[0m\u001b[0;34m)\u001b[0m\u001b[0;34m\u001b[0m\u001b[0;34m\u001b[0m\u001b[0m\n\u001b[1;32m      9\u001b[0m \u001b[0;34m\u001b[0m\u001b[0m\n",
      "\u001b[0;31mRecursionError\u001b[0m: maximum recursion depth exceeded while calling a Python object"
     ]
    }
   ],
   "source": [
    "def merge_ps_list(ps_list):\n",
    "    # do a logarithmic merge into single power spectrum.\n",
    "    # this saves quiete a bit of time by reducing the number of merge calls.\n",
    "    if len(ps_list) == 1:\n",
    "        return ps_list[0]\n",
    "    else:\n",
    "        return merge_ps_list(ps_list[:len(ps_list)//2])\\\n",
    "        + merge_ps_list(ps_list[len(ps_list)//2:])\n",
    "        \n",
    "        \n",
    "uvp_avg = merge_ps_list(uvp_avg_list)\n",
    "uvpd_avg = merge_ps_list(uvpd_avg_list)\n",
    "uvpa_avg = merge_ps_list(uvpa_list)\n",
    "uvpda_avg = merge_ps_list(uvpda_list)\n",
    "uvp = merge_ps_list(uvp_list)\n",
    "uvpd = merge_ps_list(uvpd_list)\n",
    "\n",
    "\n",
    "del uvp_avg_list\n",
    "del uvpd_avg_list\n",
    "del uvpa_list\n",
    "del uvpda_list\n",
    "del uvp_list\n",
    "del uvpd_list"
   ]
  },
  {
   "cell_type": "code",
   "execution_count": 12,
   "id": "indie-purpose",
   "metadata": {
    "ExecuteTime": {
     "end_time": "2021-05-02T05:04:38.180522Z",
     "start_time": "2021-05-02T05:04:38.171319Z"
    },
    "execution": {
     "iopub.execute_input": "2021-05-07T16:41:12.583126Z",
     "iopub.status.busy": "2021-05-07T16:41:12.582294Z",
     "iopub.status.idle": "2021-05-07T16:41:12.590818Z",
     "shell.execute_reply": "2021-05-07T16:41:12.591407Z"
    }
   },
   "outputs": [
    {
     "ename": "NameError",
     "evalue": "name 'uvpa_nobs' is not defined",
     "output_type": "error",
     "traceback": [
      "\u001b[0;31m---------------------------------------------------------------------------\u001b[0m",
      "\u001b[0;31mNameError\u001b[0m                                 Traceback (most recent call last)",
      "\u001b[0;32m<ipython-input-1-9c87e9050bd5>\u001b[0m in \u001b[0;36m<module>\u001b[0;34m\u001b[0m\n\u001b[0;32m----> 1\u001b[0;31m \u001b[0muvpa_nobs\u001b[0m\u001b[0;34m.\u001b[0m\u001b[0mget_spw_ranges\u001b[0m\u001b[0;34m(\u001b[0m\u001b[0;36m0\u001b[0m\u001b[0;34m)\u001b[0m\u001b[0;34m\u001b[0m\u001b[0;34m\u001b[0m\u001b[0m\n\u001b[0m",
      "\u001b[0;31mNameError\u001b[0m: name 'uvpa_nobs' is not defined"
     ]
    }
   ],
   "source": [
    "uvpa_nobs.get_spw_ranges(0)"
   ]
  },
  {
   "cell_type": "code",
   "execution_count": 13,
   "id": "opening-capital",
   "metadata": {
    "ExecuteTime": {
     "end_time": "2021-05-02T06:41:36.967982Z",
     "start_time": "2021-05-02T06:41:36.945970Z"
    },
    "code_folding": [
     0
    ],
    "execution": {
     "iopub.execute_input": "2021-05-07T16:41:12.594061Z",
     "iopub.status.busy": "2021-05-07T16:41:12.593211Z",
     "iopub.status.idle": "2021-05-07T16:41:12.604030Z",
     "shell.execute_reply": "2021-05-07T16:41:12.604600Z"
    }
   },
   "outputs": [],
   "source": [
    "# plot waterfalls of autos\n",
    "def plot_auto_power_spectra_waterfalls(uvpt, spw=0, nblp_per_row=8, dynamic_range=1e9):\n",
    "    lst_func = interp1d(uvpt.time_avg_array, uvpt.lst_avg_array * 12 / np.pi)\n",
    "    vmax = 10 ** np.round(np.log10(np.max(np.abs(uvpt.data_array[spw]))))\n",
    "    vmin = vmax / dynamic_range\n",
    "    freq_range = uvpt.get_spw_ranges(spw)[0][:2]\n",
    "    extent_tdelay = [uvpt.get_dlys(spw).min() * 1e9, uvpt.get_dlys(spw).max() * 1e9, uvpt.time_avg_array.max(), uvpt.time_avg_array.min()]\n",
    "    for blpc in range(0, uvpt.Nblpairs, nblp_per_row):\n",
    "        fig, axarr = plt.subplots(1, nblp_per_row)\n",
    "        fig.set_size_inches(36, 6)\n",
    "        cbax = fig.add_axes([0.915, 0.1, 0.005, 0.8])\n",
    "        for i in range(nblp_per_row):\n",
    "            blpind = blpc + i\n",
    "            if blpind < uvpt.Nblpairs:\n",
    "                blp = uvpt.get_blpairs()[blpind]\n",
    "                k = (spw, blp, ('pI', 'pI'))\n",
    "                data = uvpt.get_data(k)\n",
    "                plt.sca(axarr[i])\n",
    "                cm = plt.imshow(data.real, norm=LogNorm(vmin, vmax), cmap='inferno', interpolation='nearest', aspect='auto', extent=extent_tdelay)\n",
    "                plt.gca().set_yticks([t for t in plt.gca().get_yticks() if float(t) >= extent_tdelay[-1] and float(t) <= extent_tdelay[-2]])\n",
    "                plt.xlim(-2000, 2000)\n",
    "                plt.gca().tick_params(labelsize=12)\n",
    "                if i == 0:\n",
    "                    plt.ylabel('LST [hours]', fontsize=14)\n",
    "                    plt.gca().set_yticklabels([f'{lst_func(t):.1f}' for t in plt.gca().get_yticks()])\n",
    "                    cbar = fig.colorbar(cm, orientation='vertical', cax=cbax)\n",
    "                    cbax.yaxis.set_ticks_position('right')\n",
    "                    cbar.ax.set_ylabel(f'P($\\\\tau$) [${uvpt.units}$]', rotation=90, fontsize=14)\n",
    "                    cbax.tick_params(labelsize=16)\n",
    "                else:\n",
    "                    plt.gca().set_yticklabels(['' for t in plt.gca().get_yticks()])\n",
    "                plt.xlabel('$\\\\tau$ [ns]', fontsize=14)\n",
    "                plt.title(f'{blp} \\n {freq_range[0]/1e6:.1f}-{freq_range[1]/1e6:.1f} MHz \\n (pI, pI)', fontsize=16)"
   ]
  },
  {
   "cell_type": "code",
   "execution_count": 14,
   "id": "breathing-twins",
   "metadata": {
    "ExecuteTime": {
     "end_time": "2021-05-02T05:59:32.322057Z",
     "start_time": "2021-05-02T05:59:16.143023Z"
    },
    "execution": {
     "iopub.execute_input": "2021-05-07T16:41:12.607094Z",
     "iopub.status.busy": "2021-05-07T16:41:12.606288Z",
     "iopub.status.idle": "2021-05-07T16:41:12.614489Z",
     "shell.execute_reply": "2021-05-07T16:41:12.615087Z"
    },
    "scrolled": false
   },
   "outputs": [
    {
     "ename": "NameError",
     "evalue": "name 'uvpa_avg' is not defined",
     "output_type": "error",
     "traceback": [
      "\u001b[0;31m---------------------------------------------------------------------------\u001b[0m",
      "\u001b[0;31mNameError\u001b[0m                                 Traceback (most recent call last)",
      "\u001b[0;32m<ipython-input-1-2edc6f7330fb>\u001b[0m in \u001b[0;36m<module>\u001b[0;34m\u001b[0m\n\u001b[1;32m      1\u001b[0m \u001b[0;32mfor\u001b[0m \u001b[0mspw\u001b[0m \u001b[0;32min\u001b[0m \u001b[0mspws\u001b[0m\u001b[0;34m:\u001b[0m\u001b[0;34m\u001b[0m\u001b[0;34m\u001b[0m\u001b[0m\n\u001b[0;32m----> 2\u001b[0;31m     \u001b[0mplot_auto_power_spectra_waterfalls\u001b[0m\u001b[0;34m(\u001b[0m\u001b[0muvpa_avg\u001b[0m\u001b[0;34m,\u001b[0m \u001b[0mspw\u001b[0m\u001b[0;34m=\u001b[0m\u001b[0mspw\u001b[0m\u001b[0;34m,\u001b[0m \u001b[0mdynamic_range\u001b[0m\u001b[0;34m=\u001b[0m\u001b[0;36m1e10\u001b[0m\u001b[0;34m,\u001b[0m \u001b[0mnblp_per_row\u001b[0m\u001b[0;34m=\u001b[0m\u001b[0mmax_plots_per_row\u001b[0m\u001b[0;34m)\u001b[0m\u001b[0;34m\u001b[0m\u001b[0;34m\u001b[0m\u001b[0m\n\u001b[0m",
      "\u001b[0;31mNameError\u001b[0m: name 'uvpa_avg' is not defined"
     ]
    }
   ],
   "source": [
    "for spw in spws:\n",
    "    plot_auto_power_spectra_waterfalls(uvpa_avg, spw=spw, dynamic_range=1e10, nblp_per_row=max_plots_per_row)"
   ]
  },
  {
   "cell_type": "code",
   "execution_count": 15,
   "id": "practical-filename",
   "metadata": {
    "ExecuteTime": {
     "end_time": "2021-05-03T04:34:00.760246Z",
     "start_time": "2021-05-03T04:34:00.735667Z"
    },
    "code_folding": [],
    "execution": {
     "iopub.execute_input": "2021-05-07T16:41:12.617753Z",
     "iopub.status.busy": "2021-05-07T16:41:12.616888Z",
     "iopub.status.idle": "2021-05-07T16:41:12.628452Z",
     "shell.execute_reply": "2021-05-07T16:41:12.629013Z"
    }
   },
   "outputs": [],
   "source": [
    "def plot_auto_power_spectra_tavg(uvpt, uvptd=None, spw=0, normalize=True, dynamic_range=1e11, label_outliers=True, outlier_delay=700., outlier_sigma=5.):\n",
    "    vmax = 10 ** np.round(np.log10(np.max(np.abs(uvpt.data_array[spw]))))\n",
    "    vmin = vmax / dynamic_range\n",
    "    uvpt = copy.deepcopy(uvpt)\n",
    "    uvpt.average_spectra(time_avg=True)\n",
    "    freq_range = uvpt.get_spw_ranges(spw)[0][:2]\n",
    "    if uvptd is not None:\n",
    "        uvptd.average_spectra(time_avg=True)\n",
    "    fig, axarr = plt.subplots(1,uvpt.Npols)\n",
    "    fig.set_size_inches(36, 12)\n",
    "    for p, pp in enumerate(uvpt.get_polpairs()):\n",
    "        plt.sca(axarr[p])\n",
    "        distribution = []\n",
    "        blpkeys = []\n",
    "        colors=[]\n",
    "        for blp in uvpt.get_blpairs():\n",
    "            k = (spw, blp, pp)\n",
    "            data = uvpt.get_data(k).real[0]\n",
    "            if normalize:\n",
    "                norm_factor = data[np.argmin(np.abs(uvpt.get_dlys(spw)))]\n",
    "            else:\n",
    "                norm_factor = 1.0\n",
    "            data /= norm_factor\n",
    "            l0 = plt.plot(uvpt.get_dlys(spw) * 1e9, data)[0]\n",
    "            colors.append(l0.get_color())\n",
    "            blpkeys.append(k)\n",
    "            distribution.append(np.abs(data[np.argmin(np.abs(uvpt.get_dlys(spw) * 1e9 - outlier_delay))]))\n",
    "            if uvptd is not None:\n",
    "                plt.plot(uvptd.get_dlys(spw) * 1e9, uvptd.get_data(k).real[0] / norm_factor, ls='--', color=l0.get_color())\n",
    "        # label outliers from distribution.\n",
    "        distribution = np.asarray(distribution)\n",
    "        if label_outliers:\n",
    "            mad = np.sqrt(np.median(np.abs(distribution - np.median(distribution)) ** 2.))\n",
    "            zscore = (distribution - np.median(distribution)) / mad\n",
    "            to_label = np.where(zscore >= outlier_sigma)[0]\n",
    "            for i, label_ind in enumerate(to_label):\n",
    "                plt.text(outlier_delay + 100 * i, distribution[label_ind], blpkeys[label_ind][1][0], color=colors[label_ind], fontsize=12)\n",
    "        plt.ylim(vmin / norm_factor, vmax / norm_factor)\n",
    "        plt.xlim(-100, 2000)\n",
    "        plt.yscale('log')\n",
    "        plt.grid()\n",
    "        plt.gca().tick_params(labelsize=16)\n",
    "        plt.xlabel('$\\\\tau$ [ns]', fontsize=18)\n",
    "        if not normalize:\n",
    "            plt.ylabel(f'$P(\\\\tau) [{uvpt.units}]$', fontsize=18)\n",
    "        else:\n",
    "            plt.ylabel(f'$P(\\\\tau) / P(0)$ [unitless]', fontsize=18)\n",
    "\n",
    "        plt.title(f'{freq_range[0]/1e6:.1f}-{freq_range[1]/1e6:.1f} MHz {pp}', fontsize=16)"
   ]
  },
  {
   "cell_type": "markdown",
   "id": "identified-virgin",
   "metadata": {},
   "source": [
    "Compare auto power spectra with noise. Note that the autos are not cross-multiplied in baseline and time so they have a noise bias."
   ]
  },
  {
   "cell_type": "code",
   "execution_count": 16,
   "id": "third-shelter",
   "metadata": {
    "ExecuteTime": {
     "end_time": "2021-05-03T04:35:40.107267Z",
     "start_time": "2021-05-03T04:35:36.508138Z"
    },
    "code_folding": [],
    "execution": {
     "iopub.execute_input": "2021-05-07T16:41:12.631561Z",
     "iopub.status.busy": "2021-05-07T16:41:12.630754Z",
     "iopub.status.idle": "2021-05-07T16:41:12.639100Z",
     "shell.execute_reply": "2021-05-07T16:41:12.639693Z"
    },
    "scrolled": true
   },
   "outputs": [
    {
     "ename": "NameError",
     "evalue": "name 'uvpa_avg' is not defined",
     "output_type": "error",
     "traceback": [
      "\u001b[0;31m---------------------------------------------------------------------------\u001b[0m",
      "\u001b[0;31mNameError\u001b[0m                                 Traceback (most recent call last)",
      "\u001b[0;32m<ipython-input-1-4793a3d5ce42>\u001b[0m in \u001b[0;36m<module>\u001b[0;34m\u001b[0m\n\u001b[1;32m      1\u001b[0m \u001b[0;32mfor\u001b[0m \u001b[0mspw\u001b[0m \u001b[0;32min\u001b[0m \u001b[0mspws\u001b[0m\u001b[0;34m:\u001b[0m\u001b[0;34m\u001b[0m\u001b[0;34m\u001b[0m\u001b[0m\n\u001b[0;32m----> 2\u001b[0;31m     \u001b[0mplot_auto_power_spectra_tavg\u001b[0m\u001b[0;34m(\u001b[0m\u001b[0muvpt\u001b[0m\u001b[0;34m=\u001b[0m\u001b[0muvpa_avg\u001b[0m\u001b[0;34m,\u001b[0m \u001b[0muvptd\u001b[0m\u001b[0;34m=\u001b[0m\u001b[0muvpda_avg\u001b[0m\u001b[0;34m,\u001b[0m \u001b[0mspw\u001b[0m\u001b[0;34m=\u001b[0m\u001b[0mspw\u001b[0m\u001b[0;34m,\u001b[0m \u001b[0moutlier_delay\u001b[0m\u001b[0;34m=\u001b[0m\u001b[0;36m700\u001b[0m\u001b[0;34m,\u001b[0m \u001b[0moutlier_sigma\u001b[0m\u001b[0;34m=\u001b[0m\u001b[0;36m6\u001b[0m\u001b[0;34m)\u001b[0m\u001b[0;34m\u001b[0m\u001b[0;34m\u001b[0m\u001b[0m\n\u001b[0m",
      "\u001b[0;31mNameError\u001b[0m: name 'uvpa_avg' is not defined"
     ]
    }
   ],
   "source": [
    "for spw in spws:\n",
    "    plot_auto_power_spectra_tavg(uvpt=uvpa_avg, uvptd=uvpda_avg, spw=spw, outlier_delay=700, outlier_sigma=6)"
   ]
  },
  {
   "cell_type": "code",
   "execution_count": 17,
   "id": "handy-survey",
   "metadata": {
    "ExecuteTime": {
     "end_time": "2021-05-03T04:34:53.500255Z",
     "start_time": "2021-05-03T04:34:53.486826Z"
    },
    "code_folding": [],
    "execution": {
     "iopub.execute_input": "2021-05-07T16:41:12.642505Z",
     "iopub.status.busy": "2021-05-07T16:41:12.641606Z",
     "iopub.status.idle": "2021-05-07T16:41:12.655229Z",
     "shell.execute_reply": "2021-05-07T16:41:12.655790Z"
    }
   },
   "outputs": [],
   "source": [
    "# plot waterfalls of autos\n",
    "def plot_cross_power_spectra_waterfalls(uvpt, spw=0, nblp_per_row=8, dynamic_range=1e9, blp_skip=1, polpair=('pI', 'pI')):\n",
    "    lst_func = interp1d(uvpt.time_avg_array, uvpt.lst_avg_array * 12 / np.pi)\n",
    "    vmax = 10 ** np.round(np.log10(np.max(np.abs(uvpt.data_array[spw]))))\n",
    "    vmin = vmax / dynamic_range\n",
    "    freq_range = uvpt.get_spw_ranges(spw)[0][:2]\n",
    "    extent_tdelay = [uvpt.get_dlys(spw).min() * 1e9, uvpt.get_dlys(spw).max() * 1e9, uvpt.time_avg_array.max(), uvpt.time_avg_array.min()]\n",
    "    cmap = cmaps.inferno\n",
    "    cmap.set_bad(color = 'k')\n",
    "    for blpc in range(0, uvpt.Nblpairs // blp_skip, nblp_per_row):\n",
    "        fig, axarr = plt.subplots(1, nblp_per_row)\n",
    "        fig.set_size_inches(36, 6)\n",
    "        cbax = fig.add_axes([0.915, 0.1, 0.005, 0.8])\n",
    "        for i in range(nblp_per_row):\n",
    "            blpind = blpc + i\n",
    "            if blpind < uvpt.Nblpairs // blp_skip:\n",
    "                blp = uvpt.get_blpairs()[blpind * blp_skip]\n",
    "                bl_vec = uvpt.get_blpair_blvecs()[blpind * blp_skip]\n",
    "                bl_dly = np.linalg.norm(bl_vec) / .3\n",
    "                k = (spw, blp, polpair)\n",
    "                data = uvpt.get_data(k)\n",
    "                plt.sca(axarr[i])\n",
    "                cm = plt.imshow(data.real, norm=LogNorm(vmin, vmax), interpolation='nearest', aspect='auto', extent=extent_tdelay, cmap=cmap)\n",
    "                plt.axvline(bl_dly, ls='--', color='w')\n",
    "                plt.axvline(-bl_dly, ls='--', color='w')\n",
    "                plt.gca().set_yticks([t for t in plt.gca().get_yticks() if float(t) >= extent_tdelay[-1] and float(t) <= extent_tdelay[-2]])\n",
    "                plt.xlim(-2000, 2000)\n",
    "                plt.gca().tick_params(labelsize=12)\n",
    "                for flabel, field in zip(field_labels, lst_fields):\n",
    "                    time_bounds = [uvpt.time_avg_array[np.argmin(np.abs(lst0 - uvpt.lst_avg_array * 12 / np.pi))] for lst0 in field]\n",
    "                    plt.axhline(time_bounds[0], ls=':', color='w')\n",
    "                    plt.axhline(time_bounds[1], ls=':', color='w'\"\")\n",
    "                    plt.text(0, np.mean(time_bounds), f'Field {flabel}', color='w', ha='center')\n",
    "                if i == 0:\n",
    "                    plt.ylabel('LST [hours]', fontsize=14)\n",
    "                    plt.gca().set_yticklabels([f'{lst_func(t):.1f}' for t in plt.gca().get_yticks()])\n",
    "                    cbar = fig.colorbar(cm, orientation='vertical', cax=cbax)\n",
    "                    cbax.yaxis.set_ticks_position('right')\n",
    "                    cbar.ax.set_ylabel(f'P($\\\\tau$) [${uvpt.units}$]', rotation=90, fontsize=14)\n",
    "                    cbax.tick_params(labelsize=16)\n",
    "                else:\n",
    "                    plt.gca().set_yticklabels(['' for t in plt.gca().get_yticks()])\n",
    "                plt.xlabel('$\\\\tau$ [ns]', fontsize=14)\n",
    "                plt.title(f'{bl_vec[0]:.1f} m, {bl_vec[1]:.1f} m \\n {freq_range[0]/1e6:.1f}-{freq_range[1]/1e6:.1f} MHz \\n (pI, pI)', fontsize=16)"
   ]
  },
  {
   "cell_type": "code",
   "execution_count": 18,
   "id": "electrical-variable",
   "metadata": {
    "ExecuteTime": {
     "end_time": "2021-05-02T22:30:13.013341Z",
     "start_time": "2021-05-02T22:29:14.434339Z"
    },
    "code_folding": [
     0
    ],
    "execution": {
     "iopub.execute_input": "2021-05-07T16:41:12.658280Z",
     "iopub.status.busy": "2021-05-07T16:41:12.657479Z",
     "iopub.status.idle": "2021-05-07T16:41:12.665726Z",
     "shell.execute_reply": "2021-05-07T16:41:12.666309Z"
    },
    "scrolled": false
   },
   "outputs": [
    {
     "ename": "NameError",
     "evalue": "name 'uvp_avg' is not defined",
     "output_type": "error",
     "traceback": [
      "\u001b[0;31m---------------------------------------------------------------------------\u001b[0m",
      "\u001b[0;31mNameError\u001b[0m                                 Traceback (most recent call last)",
      "\u001b[0;32m<ipython-input-1-f646f546b64e>\u001b[0m in \u001b[0;36m<module>\u001b[0;34m\u001b[0m\n\u001b[1;32m      1\u001b[0m \u001b[0;32mfor\u001b[0m \u001b[0mspw\u001b[0m \u001b[0;32min\u001b[0m \u001b[0mspws\u001b[0m\u001b[0;34m:\u001b[0m\u001b[0;34m\u001b[0m\u001b[0;34m\u001b[0m\u001b[0m\n\u001b[0;32m----> 2\u001b[0;31m     \u001b[0mplot_cross_power_spectra_waterfalls\u001b[0m\u001b[0;34m(\u001b[0m\u001b[0muvp_avg\u001b[0m\u001b[0;34m,\u001b[0m \u001b[0mspw\u001b[0m\u001b[0;34m=\u001b[0m\u001b[0mspw\u001b[0m\u001b[0;34m,\u001b[0m \u001b[0mdynamic_range\u001b[0m\u001b[0;34m=\u001b[0m\u001b[0;36m1e10\u001b[0m\u001b[0;34m,\u001b[0m \u001b[0mnblp_per_row\u001b[0m\u001b[0;34m=\u001b[0m\u001b[0mmax_plots_per_row\u001b[0m\u001b[0;34m,\u001b[0m \u001b[0mblp_skip\u001b[0m\u001b[0;34m=\u001b[0m\u001b[0mblp_skip\u001b[0m\u001b[0;34m)\u001b[0m\u001b[0;34m\u001b[0m\u001b[0;34m\u001b[0m\u001b[0m\n\u001b[0m",
      "\u001b[0;31mNameError\u001b[0m: name 'uvp_avg' is not defined"
     ]
    }
   ],
   "source": [
    "for spw in spws:\n",
    "    plot_cross_power_spectra_waterfalls(uvp_avg, spw=spw, dynamic_range=1e10, nblp_per_row=max_plots_per_row, blp_skip=blp_skip)"
   ]
  },
  {
   "cell_type": "code",
   "execution_count": 19,
   "id": "fleet-italian",
   "metadata": {
    "ExecuteTime": {
     "end_time": "2021-05-03T00:59:36.545878Z",
     "start_time": "2021-05-03T00:59:36.512089Z"
    },
    "code_folding": [],
    "execution": {
     "iopub.execute_input": "2021-05-07T16:41:12.669019Z",
     "iopub.status.busy": "2021-05-07T16:41:12.668115Z",
     "iopub.status.idle": "2021-05-07T16:41:12.683228Z",
     "shell.execute_reply": "2021-05-07T16:41:12.683792Z"
    }
   },
   "outputs": [],
   "source": [
    "# plot waterfalls of cross-power spectra, expanding redundant groups in each row.\n",
    "def plot_redundant_cross_power_spectra_waterfalls(uvpt, spw=0, max_nblp_per_row=16, dynamic_range=1e9, red_skip=10, polpair=('pI', 'pI')):\n",
    "    lst_func = interp1d(uvpt.time_avg_array, uvpt.lst_avg_array * 12 / np.pi)\n",
    "    vmax = 10 ** np.round(np.log10(np.max(np.abs(uvpt.data_array[spw]))))\n",
    "    vmin = vmax / dynamic_range\n",
    "    freq_range = uvpt.get_spw_ranges(spw)[0][:2]\n",
    "    extent_tdelay = [uvpt.get_dlys(spw).min() * 1e9, uvpt.get_dlys(spw).max() * 1e9, uvpt.time_avg_array.max(), uvpt.time_avg_array.min()]\n",
    "    blp_groups, _, _, _ = utils.get_blvec_reds(uvpt, bl_error_tol=1.0)\n",
    "    cmap = cmaps.inferno\n",
    "    cmap.set_bad(color='k')\n",
    "    for blpc in range(0, len(blp_groups), red_skip):\n",
    "        blps = blp_groups[blpc]\n",
    "        uvpt_chunk = uvpt.select(blpairs=blp_groups[blpc], inplace=False)\n",
    "        nrows = min(max_nblp_per_row + 1, len(blps) + 1)\n",
    "        fig, axarr = plt.subplots(1, nrows)\n",
    "        fig.set_size_inches(36, 6)\n",
    "        cbax = fig.add_axes([0.915, 0.1, 0.005, 0.8])\n",
    "        for i in range(nrows):\n",
    "            plt.sca(axarr[i])\n",
    "            if i < nrows - 1:\n",
    "                blp = blps[i]\n",
    "                bl_vec = uvpt_chunk.get_blpair_blvecs()[i]\n",
    "                bl_dly = np.linalg.norm(bl_vec) / .3\n",
    "                k = (spw, blp, polpair)\n",
    "                data = uvpt_chunk.get_data(k)\n",
    "                title = f'{blp} \\n {bl_vec[0]:.1f} m, {bl_vec[1]:.1f} m \\n {freq_range[0]/1e6:.1f}-{freq_range[1]/1e6:.1f} MHz \\n (pI, pI)'\n",
    "            else:\n",
    "                uvpt_chunk.average_spectra(blpair_groups=[blps], error_field='P_N')\n",
    "                blp = uvpt_chunk.get_blpairs()[0]\n",
    "                bl_vec = uvpt_chunk.get_blpair_blvecs()[0]\n",
    "                bl_dly = np.linalg.norm(bl_vec) / .3\n",
    "                k = (spw, blp, polpair)\n",
    "                data = uvpt_chunk.get_data(k)\n",
    "                title = f'Averaging {len(blps)} blpairs \\n {bl_vec[0]:.1f} m, {bl_vec[1]:.1f} m \\n {freq_range[0]/1e6:.1f}-{freq_range[1]/1e6:.1f} MHz \\n (pI, pI)'\n",
    "            cm = plt.imshow(data.real, norm=LogNorm(vmin, vmax), cmap=cmap, interpolation='nearest', aspect='auto', extent=extent_tdelay)\n",
    "            plt.axvline(bl_dly, ls='--', color='w')\n",
    "            plt.axvline(-bl_dly, ls='--', color='w')\n",
    "            plt.gca().set_yticks([t for t in plt.gca().get_yticks() if float(t) >= extent_tdelay[-1] and float(t) <= extent_tdelay[-2]])\n",
    "            plt.xlim(-2000, 2000)\n",
    "            plt.gca().tick_params(labelsize=12)\n",
    "            for flabel, field in zip(field_labels, lst_fields):\n",
    "                time_bounds = [uvpt.time_avg_array[np.argmin(np.abs(lst0 - uvpt.lst_avg_array * 12 / np.pi))] for lst0 in field]\n",
    "                plt.axhline(time_bounds[0], ls=':', color='w')\n",
    "                plt.axhline(time_bounds[1], ls=':', color='w'\"\")\n",
    "                plt.text(0, np.mean(time_bounds), f'Field {flabel}', color='w', ha='center')\n",
    "            if i == 0:\n",
    "                plt.ylabel('LST [hours]', fontsize=14)\n",
    "                plt.gca().set_yticklabels([f'{lst_func(t):.1f}' for t in plt.gca().get_yticks()])\n",
    "                cbar = fig.colorbar(cm, orientation='vertical', cax=cbax)\n",
    "                cbax.yaxis.set_ticks_position('right')\n",
    "                cbar.ax.set_ylabel(f'P($\\\\tau$) [${uvpt.units}$]', rotation=90, fontsize=14)\n",
    "                cbax.tick_params(labelsize=16)\n",
    "            else:\n",
    "                plt.gca().set_yticklabels(['' for t in plt.gca().get_yticks()])\n",
    "            plt.xlabel('$\\\\tau$ [ns]', fontsize=14)\n",
    "            plt.title(title, fontsize=16)"
   ]
  },
  {
   "cell_type": "code",
   "execution_count": 20,
   "id": "crude-fruit",
   "metadata": {
    "ExecuteTime": {
     "end_time": "2021-05-03T01:00:52.122462Z",
     "start_time": "2021-05-03T00:59:47.724566Z"
    },
    "code_folding": [],
    "execution": {
     "iopub.execute_input": "2021-05-07T16:41:12.686297Z",
     "iopub.status.busy": "2021-05-07T16:41:12.685463Z",
     "iopub.status.idle": "2021-05-07T16:41:12.694289Z",
     "shell.execute_reply": "2021-05-07T16:41:12.694897Z"
    },
    "scrolled": false
   },
   "outputs": [
    {
     "ename": "NameError",
     "evalue": "name 'uvp' is not defined",
     "output_type": "error",
     "traceback": [
      "\u001b[0;31m---------------------------------------------------------------------------\u001b[0m",
      "\u001b[0;31mNameError\u001b[0m                                 Traceback (most recent call last)",
      "\u001b[0;32m<ipython-input-1-869bc851cea3>\u001b[0m in \u001b[0;36m<module>\u001b[0;34m\u001b[0m\n\u001b[1;32m      1\u001b[0m \u001b[0;32mfor\u001b[0m \u001b[0mspw\u001b[0m \u001b[0;32min\u001b[0m \u001b[0mspws\u001b[0m\u001b[0;34m:\u001b[0m\u001b[0;34m\u001b[0m\u001b[0;34m\u001b[0m\u001b[0m\n\u001b[0;32m----> 2\u001b[0;31m     \u001b[0mplot_redundant_cross_power_spectra_waterfalls\u001b[0m\u001b[0;34m(\u001b[0m\u001b[0muvp\u001b[0m\u001b[0;34m,\u001b[0m \u001b[0mspw\u001b[0m\u001b[0;34m=\u001b[0m\u001b[0mspw\u001b[0m\u001b[0;34m,\u001b[0m \u001b[0mdynamic_range\u001b[0m\u001b[0;34m=\u001b[0m\u001b[0;36m1e10\u001b[0m\u001b[0;34m,\u001b[0m \u001b[0mred_skip\u001b[0m\u001b[0;34m=\u001b[0m\u001b[0mgrp_skip\u001b[0m\u001b[0;34m,\u001b[0m \u001b[0mmax_nblp_per_row\u001b[0m\u001b[0;34m=\u001b[0m\u001b[0mmax_plots_per_row\u001b[0m\u001b[0;34m)\u001b[0m\u001b[0;34m\u001b[0m\u001b[0;34m\u001b[0m\u001b[0m\n\u001b[0m",
      "\u001b[0;31mNameError\u001b[0m: name 'uvp' is not defined"
     ]
    }
   ],
   "source": [
    "for spw in spws:\n",
    "    plot_redundant_cross_power_spectra_waterfalls(uvp, spw=spw, dynamic_range=1e10, red_skip=grp_skip, max_nblp_per_row=max_plots_per_row)"
   ]
  },
  {
   "cell_type": "markdown",
   "id": "synthetic-declaration",
   "metadata": {},
   "source": [
    "Time for some wedge plots. Plot each field, average of all fields and all LSTs."
   ]
  },
  {
   "cell_type": "code",
   "execution_count": 21,
   "id": "crude-birmingham",
   "metadata": {
    "ExecuteTime": {
     "end_time": "2021-05-03T03:57:27.509001Z",
     "start_time": "2021-05-03T03:57:06.599Z"
    },
    "code_folding": [],
    "execution": {
     "iopub.execute_input": "2021-05-07T16:41:12.697519Z",
     "iopub.status.busy": "2021-05-07T16:41:12.696703Z",
     "iopub.status.idle": "2021-05-07T16:41:12.702176Z",
     "shell.execute_reply": "2021-05-07T16:41:12.702764Z"
    }
   },
   "outputs": [],
   "source": [
    "def select_field(uvpt, fields, time_average=True):\n",
    "    time_selection = (uvpt.lst_avg_array * 12 / np.pi >= fields[0][0]) & (uvpt.lst_avg_array * 12 / np.pi <= fields[0][1])\n",
    "    if len(fields) > 0:\n",
    "        for field in fields[1:]:\n",
    "            time_selection = time_selection | ((uvpt.lst_avg_array * 12 / np.pi >= field[0]) & (uvpt.lst_avg_array * 12 / np.pi <= field[1]))\n",
    "\n",
    "    output = uvpt.select(times=uvpt.time_avg_array[time_selection], inplace=False)\n",
    "    if time_average:\n",
    "        output = output.average_spectra(time_avg=time_average, inplace=False, error_weights='P_N', error_field=list(uvpt.stats_array.keys()))\n",
    "    return output"
   ]
  },
  {
   "cell_type": "code",
   "execution_count": 22,
   "id": "vocational-alaska",
   "metadata": {
    "ExecuteTime": {
     "end_time": "2021-05-03T03:50:47.247631Z",
     "start_time": "2021-05-03T03:50:47.224064Z"
    },
    "code_folding": [
     0
    ],
    "execution": {
     "iopub.execute_input": "2021-05-07T16:41:12.705333Z",
     "iopub.status.busy": "2021-05-07T16:41:12.704486Z",
     "iopub.status.idle": "2021-05-07T16:41:12.715958Z",
     "shell.execute_reply": "2021-05-07T16:41:12.716652Z"
    }
   },
   "outputs": [],
   "source": [
    "def plot_wedges(uvpt, polpair=('pI', 'pI'), spw=0, dynamic_range=1e10, max_bl_angle=75.):\n",
    "    vmax = np.round(np.log10(np.max(np.abs(uvpt.data_array[spw])))) - 1\n",
    "    vmin = vmax - np.log10(dynamic_range)\n",
    "    fig, axarr = plt.subplots(1, len(lst_fields) + 2)\n",
    "    fig.set_size_inches(36, 9)\n",
    "    cmap = cmaps.inferno\n",
    "    cmap.set_bad(color='k')\n",
    "    freq_range = uvpt.get_spw_ranges(spw)[0][:2]\n",
    "    blp_groups, _, red_bl_ang, _ = utils.get_blvec_reds(uvpt, bl_error_tol=1.0)\n",
    "    blps_to_keep = []\n",
    "    for blg, ang in zip(blp_groups, red_bl_ang):\n",
    "        if ang <= max_bl_angle:\n",
    "            blps_to_keep.extend(blg)\n",
    "    for fieldnum, (fieldlabel, field) in enumerate(zip(field_labels, lst_fields)):\n",
    "        title = f' Field {fieldlabel} \\n {freq_range[0]/1e6:.1f}-{freq_range[1]/1e6:.1f} MHz \\n {polpair}'\n",
    "        uvpt_select = select_field(uvpt, [field])\n",
    "        # only select baselines with angle less then max_bl_angle.\n",
    "        uvpt_select.select(blpairs=blps_to_keep, inplace=True)\n",
    "        plt.sca(axarr[fieldnum])\n",
    "        pspecplot.delay_wedge(uvp=uvpt_select, ax=plt.gca(), pol=('pI', 'pI'), spw=spw, component='real', vmin=vmin, vmax=vmax, error_weights='P_N', \n",
    "                              fold=True, rotate=True, cmap=cmap, log10=True, colorbar=True, title=title, horizon_lines=True)\n",
    "        plt.ylim(0, 2000)\n",
    "    # now select the union of all fields\n",
    "    plt.sca(axarr[len(lst_fields)])\n",
    "    uvpt_select = select_field(uvpt, lst_fields)\n",
    "    title = f' All Fields \\n {freq_range[0]/1e6:.1f}-{freq_range[1]/1e6:.1f} MHz \\n {polpair}'\n",
    "    # only select baselines with angle less then max_bl_angle.\n",
    "    uvpt_select.select(blpairs=blps_to_keep, inplace=True)\n",
    "    pspecplot.delay_wedge(uvp=uvpt_select, ax=plt.gca(), pol=('pI', 'pI'), spw=spw, component='real', vmin=vmin, vmax=vmax, error_weights='P_N', \n",
    "                          fold=True, rotate=True, cmap=cmap, log10=True, colorbar=True, title=title, horizon_lines=True)\n",
    "    plt.ylim(0, 2000)\n",
    "    \n",
    "    \n",
    "    \n",
    "    plt.sca(axarr[len(lst_fields) + 1])\n",
    "    # Now do all LSTs\n",
    "    title = f' All LSTs \\n {freq_range[0]/1e6:.1f}-{freq_range[1]/1e6:.1f} MHz \\n {polpair}'\n",
    "    uvpt_select = uvpt.average_spectra(time_avg=True, inplace=False, error_weights='P_N')\n",
    "    uvpt_select.select(blpairs=blps_to_keep, inplace=True)\n",
    "    pspecplot.delay_wedge(uvp=uvpt_select, ax=plt.gca(), pol=('pI', 'pI'), spw=spw, component='real', vmin=vmin, vmax=vmax, error_weights='P_N', \n",
    "                      fold=True, rotate=True, cmap=cmap, log10=True, colorbar=True, title=title, horizon_lines=True)\n",
    "    plt.ylim(0, 2000)"
   ]
  },
  {
   "cell_type": "code",
   "execution_count": 23,
   "id": "excellent-english",
   "metadata": {
    "ExecuteTime": {
     "end_time": "2021-05-03T03:51:12.740355Z",
     "start_time": "2021-05-03T03:50:47.724217Z"
    },
    "execution": {
     "iopub.execute_input": "2021-05-07T16:41:12.719355Z",
     "iopub.status.busy": "2021-05-07T16:41:12.718518Z",
     "iopub.status.idle": "2021-05-07T16:41:12.727189Z",
     "shell.execute_reply": "2021-05-07T16:41:12.727777Z"
    }
   },
   "outputs": [
    {
     "ename": "NameError",
     "evalue": "name 'uvp_avg' is not defined",
     "output_type": "error",
     "traceback": [
      "\u001b[0;31m---------------------------------------------------------------------------\u001b[0m",
      "\u001b[0;31mNameError\u001b[0m                                 Traceback (most recent call last)",
      "\u001b[0;32m<ipython-input-1-fb2b6c8be57f>\u001b[0m in \u001b[0;36m<module>\u001b[0;34m\u001b[0m\n\u001b[1;32m      1\u001b[0m \u001b[0;32mfor\u001b[0m \u001b[0mspw\u001b[0m \u001b[0;32min\u001b[0m \u001b[0mspws\u001b[0m\u001b[0;34m:\u001b[0m\u001b[0;34m\u001b[0m\u001b[0;34m\u001b[0m\u001b[0m\n\u001b[0;32m----> 2\u001b[0;31m     \u001b[0mplot_wedges\u001b[0m\u001b[0;34m(\u001b[0m\u001b[0muvp_avg\u001b[0m\u001b[0;34m,\u001b[0m \u001b[0mspw\u001b[0m\u001b[0;34m=\u001b[0m\u001b[0mspw\u001b[0m\u001b[0;34m)\u001b[0m\u001b[0;34m\u001b[0m\u001b[0;34m\u001b[0m\u001b[0m\n\u001b[0m",
      "\u001b[0;31mNameError\u001b[0m: name 'uvp_avg' is not defined"
     ]
    }
   ],
   "source": [
    "for spw in spws:\n",
    "    plot_wedges(uvp_avg, spw=spw)"
   ]
  },
  {
   "cell_type": "code",
   "execution_count": 24,
   "id": "wrong-retro",
   "metadata": {
    "ExecuteTime": {
     "end_time": "2021-05-03T04:00:51.169333Z",
     "start_time": "2021-05-03T04:00:51.128894Z"
    },
    "code_folding": [
     0
    ],
    "execution": {
     "iopub.execute_input": "2021-05-07T16:41:12.730432Z",
     "iopub.status.busy": "2021-05-07T16:41:12.729535Z",
     "iopub.status.idle": "2021-05-07T16:41:12.750916Z",
     "shell.execute_reply": "2021-05-07T16:41:12.751501Z"
    }
   },
   "outputs": [],
   "source": [
    "def plot_spherical_power_spectra(uvpt, uvptd=None, polpair=('pI', 'pI'), spw=0, dynamic_range=1e10, max_bl_angle=75., k_bin_multiplier=2, delta_sq=False):\n",
    "    vmax = 10 ** (np.round(np.log10(np.max(np.abs(uvpt.data_array[spw])))) - 1)\n",
    "    vmin = vmax / dynamic_range\n",
    "    fig, axarr = plt.subplots(1, len(lst_fields) + 2)\n",
    "    fig.set_size_inches(36, 9)\n",
    "    freq_range = uvpt.get_spw_ranges(spw)[0][:2]\n",
    "    blp_groups, _, red_bl_ang, _ = utils.get_blvec_reds(uvpt, bl_error_tol=1.0)\n",
    "    blps_to_keep = []\n",
    "    # SET K BINS\n",
    "    kbins = uvpt.get_kparas(1)[85//2 + 0::k_bin_multiplier]\n",
    "    kbin_widths = np.asarray([np.mean(np.diff(kbins)) / 2 for k in range(len(kbins))])\n",
    "    for blg, ang in zip(blp_groups, red_bl_ang):\n",
    "        if ang <= max_bl_angle:\n",
    "            blps_to_keep.extend(blg)\n",
    "    # dsq multplier\n",
    "    if delta_sq:\n",
    "        dsq = kbins ** 3 / (2 * np.pi ** 2)\n",
    "        vmax *= dsq[dsq > 0.0].min()\n",
    "        vmin *= dsq[dsq > 0.0].min()\n",
    "    else:\n",
    "        dsq = 1.0\n",
    "    # noise multiplier\n",
    "    dsqn = dsq * 2\n",
    "    def single_plot(uvpt, uvptd, title):\n",
    "        # only select baselines with angle less then max_bl_angle.\n",
    "        uvpt.select(blpairs=blps_to_keep, inplace=True)\n",
    "        # set wedge to have infinite variance.\n",
    "        uvpt.set_stats_slice('P_N', m=1/0.299, b=350, above=False, val=1e40)\n",
    "        # spherical average\n",
    "        uvpt = grouping.spherical_average(uvpt, kbins=kbins, bin_widths=kbin_widths, \n",
    "                                          error_weights='P_N')\n",
    "        to_plot = [uvpt]\n",
    "        if uvptd is not None:\n",
    "            uvptd.select(blpairs=blps_to_keep, inplace=True)\n",
    "            uvptd.set_stats_slice('P_N', m=1/0.299, b=350, above=False, val=1e40)\n",
    "            uvptd = grouping.spherical_average(uvptd, kbins=kbins, bin_widths=kbin_widths, \n",
    "                                               error_weights='P_N')\n",
    "            to_plot += [uvptd]\n",
    "        for color, uvpplot in zip(['grey', 'k'], to_plot[::-1]):\n",
    "            k=(spw, uvpplot.get_blpairs()[0], polpair)\n",
    "            d = uvpplot.get_data(k)[0]\n",
    "            ltz = d <= 0.\n",
    "            gtz = d > 0.\n",
    "            plt.errorbar(kbins[gtz], np.abs(d*dsq)[gtz], (dsqn*uvpplot.get_stats('P_SN', k)[0])[gtz], \n",
    "                 ls='none', marker='o', color=color, label='sum', capsize=2)\n",
    "            plt.errorbar(kbins[ltz], np.abs(dsq*d)[ltz], (dsqn*uvpplot.get_stats('P_SN', k)[0])[ltz], \n",
    "                         ls='none', marker='o', markerfacecolor='none', color=color, capsize=2)\n",
    "            plt.plot(kbins, (dsqn*uvpplot.get_stats('P_SN', k)[0]), color='grey', ls='--', label='P_SN sum')\n",
    "        plt.yscale('log')\n",
    "        plt.grid()\n",
    "        plt.ylim(vmin , vmax)\n",
    "        plt.title(title, fontsize=18)\n",
    "        plt.xlabel('k [$h$Mpc$^{-1}$]', fontsize=16)\n",
    "        if delta_sq:\n",
    "            plt.ylabel('$\\\\Delta^2$ [mK$^2$]', fontsize=16)\n",
    "        else:\n",
    "            plt.ylabel(f'${uvpt.units}$')\n",
    "        plt.gca().tick_params(labelsize=14)\n",
    "        plt.xlim(0, 1.4)\n",
    "\n",
    "    for fieldnum, (fieldlabel, field) in enumerate(zip(field_labels, lst_fields)):\n",
    "        # select fields\n",
    "        plt.sca(axarr[fieldnum])\n",
    "        uvpt_select = select_field(uvpt, [field])\n",
    "        if uvptd is not None:\n",
    "            uvptd_select = select_field(uvptd, [field])\n",
    "        else:\n",
    "            uvptd_select = None\n",
    "        title = (f'SPW {spw}, {polpair}, z={.5*(1420e6/freq_range[1] - 1) + .5*(1420e6/freq_range[0]-1):.2f}'\n",
    "                 f'({1420e6/freq_range[1] - 1:.2f}-{1420e6/freq_range[0]-1:.2f})\\n $\\\\nu$ = {freq_range[0]/1e6:.1f}-{freq_range[1]/1e6:.1f} MHz \\n Field {fieldlabel}')\n",
    "        single_plot(uvpt_select, uvptd_select, title)\n",
    "\n",
    "    # now select the union of all fields\n",
    "    plt.sca(axarr[len(lst_fields)])\n",
    "    uvpt_select = select_field(uvpt, lst_fields)\n",
    "    if uvptd is not None:\n",
    "        uvptd_select = select_field(uvptd, lst_fields)\n",
    "    else:\n",
    "        uvptd_select = None\n",
    "\n",
    "    title = (f'SPW {spw}, {polpair}, z={.5*(1420e6/freq_range[1] - 1) + .5*(1420e6/freq_range[0]-1):.2f}'\n",
    "             f'({1420e6/freq_range[1] - 1:.2f}-{1420e6/freq_range[0]-1:.2f})\\n $\\\\nu$ = {freq_range[0]/1e6:.1f}-{freq_range[1]/1e6:.1f} MHz \\n  All Fields')\n",
    "    single_plot(uvpt_select, uvptd_select, title)\n",
    "    \n",
    "    # All LSTs.\n",
    "\n",
    "    plt.sca(axarr[len(lst_fields) + 1])\n",
    "    # Now do all LSTs\n",
    "    title = (f'SPW {spw}, {polpair}, z={.5*(1420e6/freq_range[1] - 1) + .5*(1420e6/freq_range[0]-1):.2f}'\n",
    "             f'({1420e6/freq_range[1] - 1:.2f}-{1420e6/freq_range[0]-1:.2f})\\n $\\\\nu$ = {freq_range[0]/1e6:.1f}-{freq_range[1]/1e6:.1f} MHz \\n  All LSTs')    \n",
    "    uvpt_select = select_field(uvpt, [(uvpt.lst_avg_array.min() * 12 / np.pi, uvpt.lst_avg_array.max() * 12 / np.pi)])\n",
    "    if uvptd is not None:\n",
    "        uvptd_select = select_field(uvptd, [(uvpt.lst_avg_array.min() * 12 / np.pi, uvpt.lst_avg_array.max() * 12 / np.pi)])\n",
    "    else:\n",
    "        uvptd_select = None\n",
    "    single_plot(uvpt_select, uvptd_select, title)"
   ]
  },
  {
   "cell_type": "code",
   "execution_count": 25,
   "id": "necessary-intent",
   "metadata": {
    "ExecuteTime": {
     "end_time": "2021-05-03T04:01:51.122026Z",
     "start_time": "2021-05-03T04:00:51.587855Z"
    },
    "execution": {
     "iopub.execute_input": "2021-05-07T16:41:12.754279Z",
     "iopub.status.busy": "2021-05-07T16:41:12.753466Z",
     "iopub.status.idle": "2021-05-07T16:41:12.765816Z",
     "shell.execute_reply": "2021-05-07T16:41:12.766404Z"
    },
    "scrolled": false
   },
   "outputs": [
    {
     "ename": "NameError",
     "evalue": "name 'uvp_avg' is not defined",
     "output_type": "error",
     "traceback": [
      "\u001b[0;31m---------------------------------------------------------------------------\u001b[0m",
      "\u001b[0;31mNameError\u001b[0m                                 Traceback (most recent call last)",
      "\u001b[0;32m<ipython-input-1-19d36af7a2c6>\u001b[0m in \u001b[0;36m<module>\u001b[0;34m\u001b[0m\n\u001b[1;32m      1\u001b[0m \u001b[0;32mfor\u001b[0m \u001b[0mspw\u001b[0m \u001b[0;32min\u001b[0m \u001b[0mspws\u001b[0m\u001b[0;34m:\u001b[0m\u001b[0;34m\u001b[0m\u001b[0;34m\u001b[0m\u001b[0m\n\u001b[0;32m----> 2\u001b[0;31m     \u001b[0mplot_spherical_power_spectra\u001b[0m\u001b[0;34m(\u001b[0m\u001b[0muvp_avg\u001b[0m\u001b[0;34m,\u001b[0m \u001b[0muvpd_avg\u001b[0m\u001b[0;34m,\u001b[0m \u001b[0mspw\u001b[0m\u001b[0;34m=\u001b[0m\u001b[0mspw\u001b[0m\u001b[0;34m)\u001b[0m\u001b[0;34m\u001b[0m\u001b[0;34m\u001b[0m\u001b[0m\n\u001b[0m",
      "\u001b[0;31mNameError\u001b[0m: name 'uvp_avg' is not defined"
     ]
    }
   ],
   "source": [
    "for spw in spws:\n",
    "    plot_spherical_power_spectra(uvp_avg, uvpd_avg, spw=spw)"
   ]
  },
  {
   "cell_type": "code",
   "execution_count": 26,
   "id": "informed-concentrate",
   "metadata": {
    "ExecuteTime": {
     "end_time": "2021-05-03T04:02:45.518441Z",
     "start_time": "2021-05-03T04:01:51.125220Z"
    },
    "execution": {
     "iopub.execute_input": "2021-05-07T16:41:12.768875Z",
     "iopub.status.busy": "2021-05-07T16:41:12.768069Z",
     "iopub.status.idle": "2021-05-07T16:41:12.776222Z",
     "shell.execute_reply": "2021-05-07T16:41:12.776809Z"
    },
    "scrolled": false
   },
   "outputs": [
    {
     "ename": "NameError",
     "evalue": "name 'uvp_avg' is not defined",
     "output_type": "error",
     "traceback": [
      "\u001b[0;31m---------------------------------------------------------------------------\u001b[0m",
      "\u001b[0;31mNameError\u001b[0m                                 Traceback (most recent call last)",
      "\u001b[0;32m<ipython-input-1-26dd0623e893>\u001b[0m in \u001b[0;36m<module>\u001b[0;34m\u001b[0m\n\u001b[1;32m      1\u001b[0m \u001b[0;32mfor\u001b[0m \u001b[0mspw\u001b[0m \u001b[0;32min\u001b[0m \u001b[0mspws\u001b[0m\u001b[0;34m:\u001b[0m\u001b[0;34m\u001b[0m\u001b[0;34m\u001b[0m\u001b[0m\n\u001b[0;32m----> 2\u001b[0;31m     \u001b[0mplot_spherical_power_spectra\u001b[0m\u001b[0;34m(\u001b[0m\u001b[0muvp_avg\u001b[0m\u001b[0;34m,\u001b[0m \u001b[0muvpd_avg\u001b[0m\u001b[0;34m,\u001b[0m \u001b[0mspw\u001b[0m\u001b[0;34m=\u001b[0m\u001b[0mspw\u001b[0m\u001b[0;34m,\u001b[0m \u001b[0mdelta_sq\u001b[0m\u001b[0;34m=\u001b[0m\u001b[0;32mTrue\u001b[0m\u001b[0;34m)\u001b[0m\u001b[0;34m\u001b[0m\u001b[0;34m\u001b[0m\u001b[0m\n\u001b[0m",
      "\u001b[0;31mNameError\u001b[0m: name 'uvp_avg' is not defined"
     ]
    }
   ],
   "source": [
    "for spw in spws:\n",
    "    plot_spherical_power_spectra(uvp_avg, uvpd_avg, spw=spw, delta_sq=True)"
   ]
  },
  {
   "cell_type": "code",
   "execution_count": null,
   "id": "intimate-entrepreneur",
   "metadata": {},
   "outputs": [],
   "source": []
  }
 ],
 "metadata": {
  "kernelspec": {
   "display_name": "Python 3",
   "language": "python",
   "name": "python3"
  },
  "language_info": {
   "codemirror_mode": {
    "name": "ipython",
    "version": 3
   },
   "file_extension": ".py",
   "mimetype": "text/x-python",
   "name": "python",
   "nbconvert_exporter": "python",
   "pygments_lexer": "ipython3",
   "version": "3.7.9"
  }
 },
 "nbformat": 4,
 "nbformat_minor": 5
}
